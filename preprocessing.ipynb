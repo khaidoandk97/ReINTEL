{
 "metadata": {
  "language_info": {
   "codemirror_mode": {
    "name": "ipython",
    "version": 3
   },
   "file_extension": ".py",
   "mimetype": "text/x-python",
   "name": "python",
   "nbconvert_exporter": "python",
   "pygments_lexer": "ipython3",
   "version": "3.8.5-final"
  },
  "orig_nbformat": 2,
  "kernelspec": {
   "name": "python3",
   "display_name": "Python 3",
   "language": "python"
  }
 },
 "nbformat": 4,
 "nbformat_minor": 2,
 "cells": [
  {
   "cell_type": "code",
   "execution_count": 1,
   "metadata": {},
   "outputs": [],
   "source": [
    "import numpy as np \n",
    "import pandas as pd"
   ]
  },
  {
   "cell_type": "code",
   "execution_count": 2,
   "metadata": {},
   "outputs": [],
   "source": [
    "from utils import *\n",
    "from preprocessing import *"
   ]
  },
  {
   "cell_type": "code",
   "execution_count": 3,
   "metadata": {},
   "outputs": [],
   "source": [
    "# load data using utf8 format\n",
    "\n",
    "data = pd.read_csv('./datasets/combined_datasets.csv', encoding='utf-8')"
   ]
  },
  {
   "cell_type": "code",
   "execution_count": 4,
   "metadata": {},
   "outputs": [
    {
     "output_type": "stream",
     "name": "stdout",
     "text": [
      "num_like_post has nan False\nnum_comment_post has nan False\nnum_share_post has nan False\npost_message has nan False\n"
     ]
    }
   ],
   "source": [
    "# fill 0 to num_like_post, num_commnet_post, num_share_post\n",
    "data.num_like_post.fillna(0, inplace=True)\n",
    "data.num_comment_post.fillna(0, inplace=True)\n",
    "data.num_share_post.fillna(0, inplace=True)\n",
    "data = data.dropna(subset=['post_message'], how='any').reset_index(drop=True)\n",
    "\n",
    "# check again\n",
    "check_like = data.num_like_post.isna().sum()\n",
    "check_commnet = data.num_comment_post.isna().sum()\n",
    "check_share = data.num_share_post.isna().sum()\n",
    "check_post_message = data.post_message.isna().sum()\n",
    "\n",
    "print(f'num_like_post has nan {check_like != 0}')\n",
    "print(f'num_comment_post has nan {check_commnet != 0}')\n",
    "print(f'num_share_post has nan {check_share != 0}')\n",
    "print(f'post_message has nan {check_post_message != 0}')"
   ]
  },
  {
   "cell_type": "code",
   "execution_count": 5,
   "metadata": {},
   "outputs": [
    {
     "output_type": "execute_result",
     "data": {
      "text/plain": [
       "   id                         user_name  \\\n",
       "0   1  389c669730cb6c54314a46be785cea42   \n",
       "1   3  b9f3394d2aff86d85974f5040c401f08   \n",
       "2   4  808e278b22ec6b96f2faf7447d10cd8e   \n",
       "3   5  f81bdd6d8be4c5f64bb664214e47aced   \n",
       "4   6  ffc4b6bab27c40cfc48e4dc8b8a41e42   \n",
       "\n",
       "                                        post_message num_like_post  \\\n",
       "0  THĂNG CẤP BẬC HÀM ĐỐI VỚI 2 CÁN BỘ, CHIẾN SỸ H...         19477   \n",
       "1  TƯ VẤN MÙA THI: Cách nộp hồ sơ để trúng tuyển ...            48   \n",
       "2  Cơ quan Cạnh tranh và Thị trường Anh quyết địn...             3   \n",
       "3  Thêm 7 ca tại Quảng Nam liên quan đến hành khá...           775   \n",
       "4  Trong giờ học Thể dụ‌c do thầy giáo Nguyễn Văn...             2   \n",
       "\n",
       "  num_comment_post num_share_post  label  user_name_labelEncoder  \n",
       "0              378          173.0      0                    1032  \n",
       "1                5           19.0      0                    2804  \n",
       "2                0            0.0      0                    2044  \n",
       "3                0           54.0      0                    3575  \n",
       "4                1              0      0                    3701  "
      ],
      "text/html": "<div>\n<style scoped>\n    .dataframe tbody tr th:only-of-type {\n        vertical-align: middle;\n    }\n\n    .dataframe tbody tr th {\n        vertical-align: top;\n    }\n\n    .dataframe thead th {\n        text-align: right;\n    }\n</style>\n<table border=\"1\" class=\"dataframe\">\n  <thead>\n    <tr style=\"text-align: right;\">\n      <th></th>\n      <th>id</th>\n      <th>user_name</th>\n      <th>post_message</th>\n      <th>num_like_post</th>\n      <th>num_comment_post</th>\n      <th>num_share_post</th>\n      <th>label</th>\n      <th>user_name_labelEncoder</th>\n    </tr>\n  </thead>\n  <tbody>\n    <tr>\n      <th>0</th>\n      <td>1</td>\n      <td>389c669730cb6c54314a46be785cea42</td>\n      <td>THĂNG CẤP BẬC HÀM ĐỐI VỚI 2 CÁN BỘ, CHIẾN SỸ H...</td>\n      <td>19477</td>\n      <td>378</td>\n      <td>173.0</td>\n      <td>0</td>\n      <td>1032</td>\n    </tr>\n    <tr>\n      <th>1</th>\n      <td>3</td>\n      <td>b9f3394d2aff86d85974f5040c401f08</td>\n      <td>TƯ VẤN MÙA THI: Cách nộp hồ sơ để trúng tuyển ...</td>\n      <td>48</td>\n      <td>5</td>\n      <td>19.0</td>\n      <td>0</td>\n      <td>2804</td>\n    </tr>\n    <tr>\n      <th>2</th>\n      <td>4</td>\n      <td>808e278b22ec6b96f2faf7447d10cd8e</td>\n      <td>Cơ quan Cạnh tranh và Thị trường Anh quyết địn...</td>\n      <td>3</td>\n      <td>0</td>\n      <td>0.0</td>\n      <td>0</td>\n      <td>2044</td>\n    </tr>\n    <tr>\n      <th>3</th>\n      <td>5</td>\n      <td>f81bdd6d8be4c5f64bb664214e47aced</td>\n      <td>Thêm 7 ca tại Quảng Nam liên quan đến hành khá...</td>\n      <td>775</td>\n      <td>0</td>\n      <td>54.0</td>\n      <td>0</td>\n      <td>3575</td>\n    </tr>\n    <tr>\n      <th>4</th>\n      <td>6</td>\n      <td>ffc4b6bab27c40cfc48e4dc8b8a41e42</td>\n      <td>Trong giờ học Thể dụ‌c do thầy giáo Nguyễn Văn...</td>\n      <td>2</td>\n      <td>1</td>\n      <td>0</td>\n      <td>0</td>\n      <td>3701</td>\n    </tr>\n  </tbody>\n</table>\n</div>"
     },
     "metadata": {},
     "execution_count": 5
    }
   ],
   "source": [
    "# drop id, user_name, timestamp_post columns\n",
    "data = data.drop(['timestamp_post', 'Unnamed: 0'], axis=1).reset_index(drop=True)\n",
    "\n",
    "# label encoding for user_name\n",
    "from sklearn.preprocessing import LabelEncoder\n",
    "labels = data.user_name.values\n",
    "\n",
    "le = LabelEncoder()\n",
    "data['user_name_labelEncoder'] = pd.Series(le.fit_transform(labels))\n",
    "\n",
    "# drop duplicate samples has <URL>, [<URL>](<URL>)\n",
    "char_drop = ['<URL>', '[<URL>](<URL>)']\n",
    "index = []\n",
    "for char in char_drop:\n",
    "    index.extend(list(data[data.post_message == char].index))\n",
    "data = data.drop(index, axis=0).reset_index(drop=True)\n",
    "\n",
    "# view data\n",
    "data.head(5)"
   ]
  },
  {
   "cell_type": "code",
   "execution_count": 6,
   "metadata": {},
   "outputs": [
    {
     "output_type": "execute_result",
     "data": {
      "text/plain": [
       "   id                         user_name  \\\n",
       "0   1  389c669730cb6c54314a46be785cea42   \n",
       "1   3  b9f3394d2aff86d85974f5040c401f08   \n",
       "2   4  808e278b22ec6b96f2faf7447d10cd8e   \n",
       "3   5  f81bdd6d8be4c5f64bb664214e47aced   \n",
       "4   6  ffc4b6bab27c40cfc48e4dc8b8a41e42   \n",
       "\n",
       "                                        post_message num_like_post  \\\n",
       "0  THĂNG CẤP BẬC HÀM ĐỐI VỚI 2 CÁN BỘ, CHIẾN SỸ H...         19477   \n",
       "1  TƯ VẤN MÙA THI: Cách nộp hồ sơ để trúng tuyển ...            48   \n",
       "2  Cơ quan Cạnh tranh và Thị trường Anh quyết địn...             3   \n",
       "3  Thêm 7 ca tại Quảng Nam liên quan đến hành khá...           775   \n",
       "4  Trong giờ học Thể dụ‌c do thầy giáo Nguyễn Văn...             2   \n",
       "\n",
       "  num_comment_post num_share_post  label  user_name_labelEncoder  \\\n",
       "0              378          173.0      0                    1032   \n",
       "1                5           19.0      0                    2804   \n",
       "2                0            0.0      0                    2044   \n",
       "3                0           54.0      0                    3575   \n",
       "4                1              0      0                    3701   \n",
       "\n",
       "   user_name_freq  \n",
       "0              58  \n",
       "1               1  \n",
       "2              64  \n",
       "3               1  \n",
       "4               1  "
      ],
      "text/html": "<div>\n<style scoped>\n    .dataframe tbody tr th:only-of-type {\n        vertical-align: middle;\n    }\n\n    .dataframe tbody tr th {\n        vertical-align: top;\n    }\n\n    .dataframe thead th {\n        text-align: right;\n    }\n</style>\n<table border=\"1\" class=\"dataframe\">\n  <thead>\n    <tr style=\"text-align: right;\">\n      <th></th>\n      <th>id</th>\n      <th>user_name</th>\n      <th>post_message</th>\n      <th>num_like_post</th>\n      <th>num_comment_post</th>\n      <th>num_share_post</th>\n      <th>label</th>\n      <th>user_name_labelEncoder</th>\n      <th>user_name_freq</th>\n    </tr>\n  </thead>\n  <tbody>\n    <tr>\n      <th>0</th>\n      <td>1</td>\n      <td>389c669730cb6c54314a46be785cea42</td>\n      <td>THĂNG CẤP BẬC HÀM ĐỐI VỚI 2 CÁN BỘ, CHIẾN SỸ H...</td>\n      <td>19477</td>\n      <td>378</td>\n      <td>173.0</td>\n      <td>0</td>\n      <td>1032</td>\n      <td>58</td>\n    </tr>\n    <tr>\n      <th>1</th>\n      <td>3</td>\n      <td>b9f3394d2aff86d85974f5040c401f08</td>\n      <td>TƯ VẤN MÙA THI: Cách nộp hồ sơ để trúng tuyển ...</td>\n      <td>48</td>\n      <td>5</td>\n      <td>19.0</td>\n      <td>0</td>\n      <td>2804</td>\n      <td>1</td>\n    </tr>\n    <tr>\n      <th>2</th>\n      <td>4</td>\n      <td>808e278b22ec6b96f2faf7447d10cd8e</td>\n      <td>Cơ quan Cạnh tranh và Thị trường Anh quyết địn...</td>\n      <td>3</td>\n      <td>0</td>\n      <td>0.0</td>\n      <td>0</td>\n      <td>2044</td>\n      <td>64</td>\n    </tr>\n    <tr>\n      <th>3</th>\n      <td>5</td>\n      <td>f81bdd6d8be4c5f64bb664214e47aced</td>\n      <td>Thêm 7 ca tại Quảng Nam liên quan đến hành khá...</td>\n      <td>775</td>\n      <td>0</td>\n      <td>54.0</td>\n      <td>0</td>\n      <td>3575</td>\n      <td>1</td>\n    </tr>\n    <tr>\n      <th>4</th>\n      <td>6</td>\n      <td>ffc4b6bab27c40cfc48e4dc8b8a41e42</td>\n      <td>Trong giờ học Thể dụ‌c do thầy giáo Nguyễn Văn...</td>\n      <td>2</td>\n      <td>1</td>\n      <td>0</td>\n      <td>0</td>\n      <td>3701</td>\n      <td>1</td>\n    </tr>\n  </tbody>\n</table>\n</div>"
     },
     "metadata": {},
     "execution_count": 6
    }
   ],
   "source": [
    "count = data.user_name.value_counts()\n",
    "keys = count.index.values.tolist()\n",
    "values = count.values.tolist()\n",
    "\n",
    "keys_values = zip(keys, values)\n",
    "lookup = dict(keys_values)\n",
    "\n",
    "user_name_freq = [lookup[x] for x in data.user_name.values]\n",
    "data['user_name_freq'] = pd.Series(user_name_freq)\n",
    "\n",
    "data.head(5)"
   ]
  },
  {
   "cell_type": "code",
   "execution_count": 7,
   "metadata": {},
   "outputs": [
    {
     "output_type": "stream",
     "name": "stdout",
     "text": [
      "<class 'pandas.core.frame.DataFrame'>\nRangeIndex: 5111 entries, 0 to 5110\nData columns (total 9 columns):\n #   Column                  Non-Null Count  Dtype \n---  ------                  --------------  ----- \n 0   id                      5111 non-null   int64 \n 1   user_name               5111 non-null   object\n 2   post_message            5111 non-null   object\n 3   num_like_post           5111 non-null   object\n 4   num_comment_post        5111 non-null   object\n 5   num_share_post          5111 non-null   object\n 6   label                   5111 non-null   int64 \n 7   user_name_labelEncoder  5111 non-null   int32 \n 8   user_name_freq          5111 non-null   int64 \ndtypes: int32(1), int64(3), object(5)\nmemory usage: 339.5+ KB\n"
     ]
    }
   ],
   "source": [
    "data.info()"
   ]
  },
  {
   "cell_type": "code",
   "execution_count": 8,
   "metadata": {},
   "outputs": [
    {
     "output_type": "execute_result",
     "data": {
      "text/plain": [
       "       id                         user_name  \\\n",
       "34     36  fe8176d5bc081419f9b08e195525c131   \n",
       "76     78  45d80e8d62eac8e3f28a8c822fab002d   \n",
       "80     82  f8584733a5e8e99a9b45ebb5400e796e   \n",
       "174   178  0adfdeb881147078b0c50354193d67dd   \n",
       "185   190  a2ed99660efc25ebf7dd8947c046fd4c   \n",
       "...   ...                               ...   \n",
       "4494  183               3498669648858314752   \n",
       "4496  185               3380197056197186048   \n",
       "4497  186              -6852763066036545536   \n",
       "4509  198              -6478801688689956864   \n",
       "4743  432              -1161922683852041984   \n",
       "\n",
       "                                           post_message  \\\n",
       "34    Người mặt đen miệng ngậm 2 quả gì đó tay cầm đ...   \n",
       "76    Mọi người ra đường nhớ đeo khẩu trang nha. Đã ...   \n",
       "80                         MU nhuộm đỏ thành Manchester   \n",
       "174   Ca Phẫu Thuật thất bại. Hoài Linh lâm vào tình...   \n",
       "185         Hà Nội đã hoãn giải đua F1 do dịch Covid-19   \n",
       "...                                                 ...   \n",
       "4494  Vừa cập nhật dc 13 học sinh lớp 1 trường Hương...   \n",
       "4496  Sợ thật. Dịch covid đã về đến Hưng Nguyên và N...   \n",
       "4497  BÀI THUỐC MỖI SÁNG KHIẾN TÔI KHỎE MẠNH\\n\\nKhuy...   \n",
       "4509  VTV1 CŨNG ĐÃ NÓI RỒI NÊN MỌI NGƯỜI CỨ LÀM NHA....   \n",
       "4743  Sở GD&ĐT Hải Phòng đã có chỉ đạo tới các trườn...   \n",
       "\n",
       "                          num_like_post  \\\n",
       "34                              unknown   \n",
       "76                              unknown   \n",
       "80     Solskjaer hạ knock-out Guardiola   \n",
       "174                             unknown   \n",
       "185                                  29   \n",
       "...                                 ...   \n",
       "4494                            unknown   \n",
       "4496                            unknown   \n",
       "4497                                 10   \n",
       "4509                            unknown   \n",
       "4743                                  0   \n",
       "\n",
       "                                       num_comment_post  \\\n",
       "34                                              unknown   \n",
       "76                                              unknown   \n",
       "80     Juventus bỏ xa Inter Milan... là những ảnh ch...   \n",
       "174                                             unknown   \n",
       "185                                           1 comment   \n",
       "...                                                 ...   \n",
       "4494                                            unknown   \n",
       "4496                                            unknown   \n",
       "4497                                                  5   \n",
       "4509                                            unknown   \n",
       "4743                                                  1   \n",
       "\n",
       "                   num_share_post  label  user_name_labelEncoder  \\\n",
       "34                        unknown      1                    3687   \n",
       "76                        unknown      1                    1210   \n",
       "80                   1583713929.0      0                    3582   \n",
       "174                       unknown      1                     340   \n",
       "185                             0      0                    2518   \n",
       "...                           ...    ...                     ...   \n",
       "4494                      unknown      1                     977   \n",
       "4496                      unknown      1                     957   \n",
       "4497                      1 share      1                     163   \n",
       "4509                      unknown      1                     152   \n",
       "4743  May 25th 2020, 21:57:58.000      0                       3   \n",
       "\n",
       "      user_name_freq  \n",
       "34                 1  \n",
       "76                 1  \n",
       "80                 1  \n",
       "174                1  \n",
       "185                1  \n",
       "...              ...  \n",
       "4494               1  \n",
       "4496               1  \n",
       "4497               1  \n",
       "4509               1  \n",
       "4743               1  \n",
       "\n",
       "[154 rows x 9 columns]"
      ],
      "text/html": "<div>\n<style scoped>\n    .dataframe tbody tr th:only-of-type {\n        vertical-align: middle;\n    }\n\n    .dataframe tbody tr th {\n        vertical-align: top;\n    }\n\n    .dataframe thead th {\n        text-align: right;\n    }\n</style>\n<table border=\"1\" class=\"dataframe\">\n  <thead>\n    <tr style=\"text-align: right;\">\n      <th></th>\n      <th>id</th>\n      <th>user_name</th>\n      <th>post_message</th>\n      <th>num_like_post</th>\n      <th>num_comment_post</th>\n      <th>num_share_post</th>\n      <th>label</th>\n      <th>user_name_labelEncoder</th>\n      <th>user_name_freq</th>\n    </tr>\n  </thead>\n  <tbody>\n    <tr>\n      <th>34</th>\n      <td>36</td>\n      <td>fe8176d5bc081419f9b08e195525c131</td>\n      <td>Người mặt đen miệng ngậm 2 quả gì đó tay cầm đ...</td>\n      <td>unknown</td>\n      <td>unknown</td>\n      <td>unknown</td>\n      <td>1</td>\n      <td>3687</td>\n      <td>1</td>\n    </tr>\n    <tr>\n      <th>76</th>\n      <td>78</td>\n      <td>45d80e8d62eac8e3f28a8c822fab002d</td>\n      <td>Mọi người ra đường nhớ đeo khẩu trang nha. Đã ...</td>\n      <td>unknown</td>\n      <td>unknown</td>\n      <td>unknown</td>\n      <td>1</td>\n      <td>1210</td>\n      <td>1</td>\n    </tr>\n    <tr>\n      <th>80</th>\n      <td>82</td>\n      <td>f8584733a5e8e99a9b45ebb5400e796e</td>\n      <td>MU nhuộm đỏ thành Manchester</td>\n      <td>Solskjaer hạ knock-out Guardiola</td>\n      <td>Juventus bỏ xa Inter Milan... là những ảnh ch...</td>\n      <td>1583713929.0</td>\n      <td>0</td>\n      <td>3582</td>\n      <td>1</td>\n    </tr>\n    <tr>\n      <th>174</th>\n      <td>178</td>\n      <td>0adfdeb881147078b0c50354193d67dd</td>\n      <td>Ca Phẫu Thuật thất bại. Hoài Linh lâm vào tình...</td>\n      <td>unknown</td>\n      <td>unknown</td>\n      <td>unknown</td>\n      <td>1</td>\n      <td>340</td>\n      <td>1</td>\n    </tr>\n    <tr>\n      <th>185</th>\n      <td>190</td>\n      <td>a2ed99660efc25ebf7dd8947c046fd4c</td>\n      <td>Hà Nội đã hoãn giải đua F1 do dịch Covid-19</td>\n      <td>29</td>\n      <td>1 comment</td>\n      <td>0</td>\n      <td>0</td>\n      <td>2518</td>\n      <td>1</td>\n    </tr>\n    <tr>\n      <th>...</th>\n      <td>...</td>\n      <td>...</td>\n      <td>...</td>\n      <td>...</td>\n      <td>...</td>\n      <td>...</td>\n      <td>...</td>\n      <td>...</td>\n      <td>...</td>\n    </tr>\n    <tr>\n      <th>4494</th>\n      <td>183</td>\n      <td>3498669648858314752</td>\n      <td>Vừa cập nhật dc 13 học sinh lớp 1 trường Hương...</td>\n      <td>unknown</td>\n      <td>unknown</td>\n      <td>unknown</td>\n      <td>1</td>\n      <td>977</td>\n      <td>1</td>\n    </tr>\n    <tr>\n      <th>4496</th>\n      <td>185</td>\n      <td>3380197056197186048</td>\n      <td>Sợ thật. Dịch covid đã về đến Hưng Nguyên và N...</td>\n      <td>unknown</td>\n      <td>unknown</td>\n      <td>unknown</td>\n      <td>1</td>\n      <td>957</td>\n      <td>1</td>\n    </tr>\n    <tr>\n      <th>4497</th>\n      <td>186</td>\n      <td>-6852763066036545536</td>\n      <td>BÀI THUỐC MỖI SÁNG KHIẾN TÔI KHỎE MẠNH\\n\\nKhuy...</td>\n      <td>10</td>\n      <td>5</td>\n      <td>1 share</td>\n      <td>1</td>\n      <td>163</td>\n      <td>1</td>\n    </tr>\n    <tr>\n      <th>4509</th>\n      <td>198</td>\n      <td>-6478801688689956864</td>\n      <td>VTV1 CŨNG ĐÃ NÓI RỒI NÊN MỌI NGƯỜI CỨ LÀM NHA....</td>\n      <td>unknown</td>\n      <td>unknown</td>\n      <td>unknown</td>\n      <td>1</td>\n      <td>152</td>\n      <td>1</td>\n    </tr>\n    <tr>\n      <th>4743</th>\n      <td>432</td>\n      <td>-1161922683852041984</td>\n      <td>Sở GD&amp;ĐT Hải Phòng đã có chỉ đạo tới các trườn...</td>\n      <td>0</td>\n      <td>1</td>\n      <td>May 25th 2020, 21:57:58.000</td>\n      <td>0</td>\n      <td>3</td>\n      <td>1</td>\n    </tr>\n  </tbody>\n</table>\n<p>154 rows × 9 columns</p>\n</div>"
     },
     "metadata": {},
     "execution_count": 8
    }
   ],
   "source": [
    "index = []\n",
    "for i in range(len(data)):\n",
    "    try:\n",
    "        int(float(data.num_comment_post[i]))\n",
    "        int(float(data.num_like_post[i]))\n",
    "        int(float(data.num_share_post[i]))\n",
    "    except:\n",
    "        index.append(i)\n",
    "data_temp = data.iloc[index,:]\n",
    "data_temp"
   ]
  },
  {
   "cell_type": "code",
   "execution_count": 9,
   "metadata": {},
   "outputs": [
    {
     "output_type": "execute_result",
     "data": {
      "text/plain": [
       "       id                         user_name  \\\n",
       "0       1  389c669730cb6c54314a46be785cea42   \n",
       "1       3  b9f3394d2aff86d85974f5040c401f08   \n",
       "2       4  808e278b22ec6b96f2faf7447d10cd8e   \n",
       "3       5  f81bdd6d8be4c5f64bb664214e47aced   \n",
       "4       6  ffc4b6bab27c40cfc48e4dc8b8a41e42   \n",
       "...   ...                               ...   \n",
       "5095  795               2490795936720330752   \n",
       "5096  796               1846872478075934976   \n",
       "5097  797              -4723502351165939712   \n",
       "5098  798               7717037201428829184   \n",
       "5099  799              -8318346087637567488   \n",
       "\n",
       "                                           post_message num_like_post  \\\n",
       "0     THĂNG CẤP BẬC HÀM ĐỐI VỚI 2 CÁN BỘ, CHIẾN SỸ H...         19477   \n",
       "1     TƯ VẤN MÙA THI: Cách nộp hồ sơ để trúng tuyển ...            48   \n",
       "2     Cơ quan Cạnh tranh và Thị trường Anh quyết địn...             3   \n",
       "3     Thêm 7 ca tại Quảng Nam liên quan đến hành khá...           775   \n",
       "4     Trong giờ học Thể dụ‌c do thầy giáo Nguyễn Văn...             2   \n",
       "...                                                 ...           ...   \n",
       "5095  Định cư gần 60 năm, trong đó 20 năm bị \"treo\" ...             0   \n",
       "5096  Loạn não quá\\n\\nTheo báo điện tử Giao thông, p...            43   \n",
       "5097  https://m.baophapluat.vn/ban-doc/vu-an-tranh-c...             3   \n",
       "5098  Cục Bảo vệ thực vật cho rằng, đề xuất tạm thời...            13   \n",
       "5099  Không rõ 2 xe đi với tốc độ bao nhiêu để xảy r...             9   \n",
       "\n",
       "     num_comment_post num_share_post  label  user_name_labelEncoder  \\\n",
       "0                 378          173.0      0                    1032   \n",
       "1                   5           19.0      0                    2804   \n",
       "2                   0            0.0      0                    2044   \n",
       "3                   0           54.0      0                    3575   \n",
       "4                   1              0      0                    3701   \n",
       "...               ...            ...    ...                     ...   \n",
       "5095                0              0      0                     757   \n",
       "5096               24              3      0                     583   \n",
       "5097                0              0      0                      94   \n",
       "5098                2              0      0                    1910   \n",
       "5099                0              1      0                     197   \n",
       "\n",
       "      user_name_freq  \n",
       "0                 58  \n",
       "1                  1  \n",
       "2                 64  \n",
       "3                  1  \n",
       "4                  1  \n",
       "...              ...  \n",
       "5095               1  \n",
       "5096               2  \n",
       "5097               2  \n",
       "5098               7  \n",
       "5099               4  \n",
       "\n",
       "[5100 rows x 9 columns]"
      ],
      "text/html": "<div>\n<style scoped>\n    .dataframe tbody tr th:only-of-type {\n        vertical-align: middle;\n    }\n\n    .dataframe tbody tr th {\n        vertical-align: top;\n    }\n\n    .dataframe thead th {\n        text-align: right;\n    }\n</style>\n<table border=\"1\" class=\"dataframe\">\n  <thead>\n    <tr style=\"text-align: right;\">\n      <th></th>\n      <th>id</th>\n      <th>user_name</th>\n      <th>post_message</th>\n      <th>num_like_post</th>\n      <th>num_comment_post</th>\n      <th>num_share_post</th>\n      <th>label</th>\n      <th>user_name_labelEncoder</th>\n      <th>user_name_freq</th>\n    </tr>\n  </thead>\n  <tbody>\n    <tr>\n      <th>0</th>\n      <td>1</td>\n      <td>389c669730cb6c54314a46be785cea42</td>\n      <td>THĂNG CẤP BẬC HÀM ĐỐI VỚI 2 CÁN BỘ, CHIẾN SỸ H...</td>\n      <td>19477</td>\n      <td>378</td>\n      <td>173.0</td>\n      <td>0</td>\n      <td>1032</td>\n      <td>58</td>\n    </tr>\n    <tr>\n      <th>1</th>\n      <td>3</td>\n      <td>b9f3394d2aff86d85974f5040c401f08</td>\n      <td>TƯ VẤN MÙA THI: Cách nộp hồ sơ để trúng tuyển ...</td>\n      <td>48</td>\n      <td>5</td>\n      <td>19.0</td>\n      <td>0</td>\n      <td>2804</td>\n      <td>1</td>\n    </tr>\n    <tr>\n      <th>2</th>\n      <td>4</td>\n      <td>808e278b22ec6b96f2faf7447d10cd8e</td>\n      <td>Cơ quan Cạnh tranh và Thị trường Anh quyết địn...</td>\n      <td>3</td>\n      <td>0</td>\n      <td>0.0</td>\n      <td>0</td>\n      <td>2044</td>\n      <td>64</td>\n    </tr>\n    <tr>\n      <th>3</th>\n      <td>5</td>\n      <td>f81bdd6d8be4c5f64bb664214e47aced</td>\n      <td>Thêm 7 ca tại Quảng Nam liên quan đến hành khá...</td>\n      <td>775</td>\n      <td>0</td>\n      <td>54.0</td>\n      <td>0</td>\n      <td>3575</td>\n      <td>1</td>\n    </tr>\n    <tr>\n      <th>4</th>\n      <td>6</td>\n      <td>ffc4b6bab27c40cfc48e4dc8b8a41e42</td>\n      <td>Trong giờ học Thể dụ‌c do thầy giáo Nguyễn Văn...</td>\n      <td>2</td>\n      <td>1</td>\n      <td>0</td>\n      <td>0</td>\n      <td>3701</td>\n      <td>1</td>\n    </tr>\n    <tr>\n      <th>...</th>\n      <td>...</td>\n      <td>...</td>\n      <td>...</td>\n      <td>...</td>\n      <td>...</td>\n      <td>...</td>\n      <td>...</td>\n      <td>...</td>\n      <td>...</td>\n    </tr>\n    <tr>\n      <th>5095</th>\n      <td>795</td>\n      <td>2490795936720330752</td>\n      <td>Định cư gần 60 năm, trong đó 20 năm bị \"treo\" ...</td>\n      <td>0</td>\n      <td>0</td>\n      <td>0</td>\n      <td>0</td>\n      <td>757</td>\n      <td>1</td>\n    </tr>\n    <tr>\n      <th>5096</th>\n      <td>796</td>\n      <td>1846872478075934976</td>\n      <td>Loạn não quá\\n\\nTheo báo điện tử Giao thông, p...</td>\n      <td>43</td>\n      <td>24</td>\n      <td>3</td>\n      <td>0</td>\n      <td>583</td>\n      <td>2</td>\n    </tr>\n    <tr>\n      <th>5097</th>\n      <td>797</td>\n      <td>-4723502351165939712</td>\n      <td>https://m.baophapluat.vn/ban-doc/vu-an-tranh-c...</td>\n      <td>3</td>\n      <td>0</td>\n      <td>0</td>\n      <td>0</td>\n      <td>94</td>\n      <td>2</td>\n    </tr>\n    <tr>\n      <th>5098</th>\n      <td>798</td>\n      <td>7717037201428829184</td>\n      <td>Cục Bảo vệ thực vật cho rằng, đề xuất tạm thời...</td>\n      <td>13</td>\n      <td>2</td>\n      <td>0</td>\n      <td>0</td>\n      <td>1910</td>\n      <td>7</td>\n    </tr>\n    <tr>\n      <th>5099</th>\n      <td>799</td>\n      <td>-8318346087637567488</td>\n      <td>Không rõ 2 xe đi với tốc độ bao nhiêu để xảy r...</td>\n      <td>9</td>\n      <td>0</td>\n      <td>1</td>\n      <td>0</td>\n      <td>197</td>\n      <td>4</td>\n    </tr>\n  </tbody>\n</table>\n<p>5100 rows × 9 columns</p>\n</div>"
     },
     "metadata": {},
     "execution_count": 9
    }
   ],
   "source": [
    "index_drop = []\n",
    "for i in range(len(data)):\n",
    "    try:\n",
    "        int(float(data.num_comment_post[i]))\n",
    "        int(float(data.num_like_post[i]))\n",
    "        int(float(data.num_share_post[i]))\n",
    "    except:\n",
    "        if int(float(data.label[i])) == 0:\n",
    "            index_drop.append(i)\n",
    "        else:\n",
    "            data.num_comment_post[i] = 0\n",
    "            data.num_like_post[i] = 0\n",
    "            data.num_share_post[i] = 0\n",
    "\n",
    "data = data.drop(index=index_drop, axis=0).reset_index(drop=True)\n",
    "data"
   ]
  },
  {
   "cell_type": "code",
   "execution_count": 10,
   "metadata": {},
   "outputs": [
    {
     "output_type": "stream",
     "name": "stdout",
     "text": [
      "<class 'pandas.core.frame.DataFrame'>\nRangeIndex: 5100 entries, 0 to 5099\nData columns (total 9 columns):\n #   Column                  Non-Null Count  Dtype \n---  ------                  --------------  ----- \n 0   id                      5100 non-null   int64 \n 1   user_name               5100 non-null   object\n 2   post_message            5100 non-null   object\n 3   num_like_post           5100 non-null   object\n 4   num_comment_post        5100 non-null   object\n 5   num_share_post          5100 non-null   object\n 6   label                   5100 non-null   int64 \n 7   user_name_labelEncoder  5100 non-null   int32 \n 8   user_name_freq          5100 non-null   int64 \ndtypes: int32(1), int64(3), object(5)\nmemory usage: 338.8+ KB\n"
     ]
    }
   ],
   "source": [
    "data.info()"
   ]
  },
  {
   "cell_type": "code",
   "execution_count": 11,
   "metadata": {},
   "outputs": [
    {
     "output_type": "execute_result",
     "data": {
      "text/plain": [
       "       id                         user_name  \\\n",
       "0       1  389c669730cb6c54314a46be785cea42   \n",
       "1       3  b9f3394d2aff86d85974f5040c401f08   \n",
       "2       4  808e278b22ec6b96f2faf7447d10cd8e   \n",
       "3       5  f81bdd6d8be4c5f64bb664214e47aced   \n",
       "4       6  ffc4b6bab27c40cfc48e4dc8b8a41e42   \n",
       "...   ...                               ...   \n",
       "5095  795               2490795936720330752   \n",
       "5096  796               1846872478075934976   \n",
       "5097  797              -4723502351165939712   \n",
       "5098  798               7717037201428829184   \n",
       "5099  799              -8318346087637567488   \n",
       "\n",
       "                                           post_message  num_like_post  \\\n",
       "0     THĂNG CẤP BẬC HÀM ĐỐI VỚI 2 CÁN BỘ, CHIẾN SỸ H...          19477   \n",
       "1     TƯ VẤN MÙA THI: Cách nộp hồ sơ để trúng tuyển ...             48   \n",
       "2     Cơ quan Cạnh tranh và Thị trường Anh quyết địn...              3   \n",
       "3     Thêm 7 ca tại Quảng Nam liên quan đến hành khá...            775   \n",
       "4     Trong giờ học Thể dụ‌c do thầy giáo Nguyễn Văn...              2   \n",
       "...                                                 ...            ...   \n",
       "5095  Định cư gần 60 năm, trong đó 20 năm bị \"treo\" ...              0   \n",
       "5096  Loạn não quá\\n\\nTheo báo điện tử Giao thông, p...             43   \n",
       "5097  https://m.baophapluat.vn/ban-doc/vu-an-tranh-c...              3   \n",
       "5098  Cục Bảo vệ thực vật cho rằng, đề xuất tạm thời...             13   \n",
       "5099  Không rõ 2 xe đi với tốc độ bao nhiêu để xảy r...              9   \n",
       "\n",
       "      num_comment_post  num_share_post  label  user_name_labelEncoder  \\\n",
       "0                  378             173      0                    1032   \n",
       "1                    5              19      0                    2804   \n",
       "2                    0               0      0                    2044   \n",
       "3                    0              54      0                    3575   \n",
       "4                    1               0      0                    3701   \n",
       "...                ...             ...    ...                     ...   \n",
       "5095                 0               0      0                     757   \n",
       "5096                24               3      0                     583   \n",
       "5097                 0               0      0                      94   \n",
       "5098                 2               0      0                    1910   \n",
       "5099                 0               1      0                     197   \n",
       "\n",
       "      user_name_freq  \n",
       "0                 58  \n",
       "1                  1  \n",
       "2                 64  \n",
       "3                  1  \n",
       "4                  1  \n",
       "...              ...  \n",
       "5095               1  \n",
       "5096               2  \n",
       "5097               2  \n",
       "5098               7  \n",
       "5099               4  \n",
       "\n",
       "[5100 rows x 9 columns]"
      ],
      "text/html": "<div>\n<style scoped>\n    .dataframe tbody tr th:only-of-type {\n        vertical-align: middle;\n    }\n\n    .dataframe tbody tr th {\n        vertical-align: top;\n    }\n\n    .dataframe thead th {\n        text-align: right;\n    }\n</style>\n<table border=\"1\" class=\"dataframe\">\n  <thead>\n    <tr style=\"text-align: right;\">\n      <th></th>\n      <th>id</th>\n      <th>user_name</th>\n      <th>post_message</th>\n      <th>num_like_post</th>\n      <th>num_comment_post</th>\n      <th>num_share_post</th>\n      <th>label</th>\n      <th>user_name_labelEncoder</th>\n      <th>user_name_freq</th>\n    </tr>\n  </thead>\n  <tbody>\n    <tr>\n      <th>0</th>\n      <td>1</td>\n      <td>389c669730cb6c54314a46be785cea42</td>\n      <td>THĂNG CẤP BẬC HÀM ĐỐI VỚI 2 CÁN BỘ, CHIẾN SỸ H...</td>\n      <td>19477</td>\n      <td>378</td>\n      <td>173</td>\n      <td>0</td>\n      <td>1032</td>\n      <td>58</td>\n    </tr>\n    <tr>\n      <th>1</th>\n      <td>3</td>\n      <td>b9f3394d2aff86d85974f5040c401f08</td>\n      <td>TƯ VẤN MÙA THI: Cách nộp hồ sơ để trúng tuyển ...</td>\n      <td>48</td>\n      <td>5</td>\n      <td>19</td>\n      <td>0</td>\n      <td>2804</td>\n      <td>1</td>\n    </tr>\n    <tr>\n      <th>2</th>\n      <td>4</td>\n      <td>808e278b22ec6b96f2faf7447d10cd8e</td>\n      <td>Cơ quan Cạnh tranh và Thị trường Anh quyết địn...</td>\n      <td>3</td>\n      <td>0</td>\n      <td>0</td>\n      <td>0</td>\n      <td>2044</td>\n      <td>64</td>\n    </tr>\n    <tr>\n      <th>3</th>\n      <td>5</td>\n      <td>f81bdd6d8be4c5f64bb664214e47aced</td>\n      <td>Thêm 7 ca tại Quảng Nam liên quan đến hành khá...</td>\n      <td>775</td>\n      <td>0</td>\n      <td>54</td>\n      <td>0</td>\n      <td>3575</td>\n      <td>1</td>\n    </tr>\n    <tr>\n      <th>4</th>\n      <td>6</td>\n      <td>ffc4b6bab27c40cfc48e4dc8b8a41e42</td>\n      <td>Trong giờ học Thể dụ‌c do thầy giáo Nguyễn Văn...</td>\n      <td>2</td>\n      <td>1</td>\n      <td>0</td>\n      <td>0</td>\n      <td>3701</td>\n      <td>1</td>\n    </tr>\n    <tr>\n      <th>...</th>\n      <td>...</td>\n      <td>...</td>\n      <td>...</td>\n      <td>...</td>\n      <td>...</td>\n      <td>...</td>\n      <td>...</td>\n      <td>...</td>\n      <td>...</td>\n    </tr>\n    <tr>\n      <th>5095</th>\n      <td>795</td>\n      <td>2490795936720330752</td>\n      <td>Định cư gần 60 năm, trong đó 20 năm bị \"treo\" ...</td>\n      <td>0</td>\n      <td>0</td>\n      <td>0</td>\n      <td>0</td>\n      <td>757</td>\n      <td>1</td>\n    </tr>\n    <tr>\n      <th>5096</th>\n      <td>796</td>\n      <td>1846872478075934976</td>\n      <td>Loạn não quá\\n\\nTheo báo điện tử Giao thông, p...</td>\n      <td>43</td>\n      <td>24</td>\n      <td>3</td>\n      <td>0</td>\n      <td>583</td>\n      <td>2</td>\n    </tr>\n    <tr>\n      <th>5097</th>\n      <td>797</td>\n      <td>-4723502351165939712</td>\n      <td>https://m.baophapluat.vn/ban-doc/vu-an-tranh-c...</td>\n      <td>3</td>\n      <td>0</td>\n      <td>0</td>\n      <td>0</td>\n      <td>94</td>\n      <td>2</td>\n    </tr>\n    <tr>\n      <th>5098</th>\n      <td>798</td>\n      <td>7717037201428829184</td>\n      <td>Cục Bảo vệ thực vật cho rằng, đề xuất tạm thời...</td>\n      <td>13</td>\n      <td>2</td>\n      <td>0</td>\n      <td>0</td>\n      <td>1910</td>\n      <td>7</td>\n    </tr>\n    <tr>\n      <th>5099</th>\n      <td>799</td>\n      <td>-8318346087637567488</td>\n      <td>Không rõ 2 xe đi với tốc độ bao nhiêu để xảy r...</td>\n      <td>9</td>\n      <td>0</td>\n      <td>1</td>\n      <td>0</td>\n      <td>197</td>\n      <td>4</td>\n    </tr>\n  </tbody>\n</table>\n<p>5100 rows × 9 columns</p>\n</div>"
     },
     "metadata": {},
     "execution_count": 11
    }
   ],
   "source": [
    "# convert post_message, num_like_post, num_comment_post, num_share_post to int64\n",
    "columns = ['num_like_post', 'num_comment_post', 'num_share_post', 'label', 'user_name_labelEncoder', 'user_name_freq']\n",
    "\n",
    "data[columns] = data[columns].apply(pd.to_numeric).astype('int64')\n",
    "\n",
    "data"
   ]
  },
  {
   "cell_type": "code",
   "execution_count": 12,
   "metadata": {},
   "outputs": [
    {
     "output_type": "stream",
     "name": "stdout",
     "text": [
      "<class 'pandas.core.frame.DataFrame'>\nRangeIndex: 5100 entries, 0 to 5099\nData columns (total 9 columns):\n #   Column                  Non-Null Count  Dtype \n---  ------                  --------------  ----- \n 0   id                      5100 non-null   int64 \n 1   user_name               5100 non-null   object\n 2   post_message            5100 non-null   object\n 3   num_like_post           5100 non-null   int64 \n 4   num_comment_post        5100 non-null   int64 \n 5   num_share_post          5100 non-null   int64 \n 6   label                   5100 non-null   int64 \n 7   user_name_labelEncoder  5100 non-null   int64 \n 8   user_name_freq          5100 non-null   int64 \ndtypes: int64(7), object(2)\nmemory usage: 358.7+ KB\n"
     ]
    }
   ],
   "source": [
    "data.info()"
   ]
  },
  {
   "cell_type": "code",
   "execution_count": 13,
   "metadata": {},
   "outputs": [
    {
     "output_type": "execute_result",
     "data": {
      "text/plain": [
       "   id                         user_name  \\\n",
       "0   1  389c669730cb6c54314a46be785cea42   \n",
       "1   3  b9f3394d2aff86d85974f5040c401f08   \n",
       "2   4  808e278b22ec6b96f2faf7447d10cd8e   \n",
       "3   5  f81bdd6d8be4c5f64bb664214e47aced   \n",
       "4   6  ffc4b6bab27c40cfc48e4dc8b8a41e42   \n",
       "\n",
       "                                        post_message  num_like_post  \\\n",
       "0  THĂNG CẤP BẬC HÀM ĐỐI VỚI 2 CÁN BỘ, CHIẾN SỸ H...          19477   \n",
       "1  TƯ VẤN MÙA THI: Cách nộp hồ sơ để trúng tuyển ...             48   \n",
       "2  Cơ quan Cạnh tranh và Thị trường Anh quyết địn...              3   \n",
       "3  Thêm 7 ca tại Quảng Nam liên quan đến hành khá...            775   \n",
       "4  Trong giờ học Thể dụ‌c do thầy giáo Nguyễn Văn...              2   \n",
       "\n",
       "   num_comment_post  num_share_post  label  user_name_labelEncoder  \\\n",
       "0               378             173      0                    1032   \n",
       "1                 5              19      0                    2804   \n",
       "2                 0               0      0                    2044   \n",
       "3                 0              54      0                    3575   \n",
       "4                 1               0      0                    3701   \n",
       "\n",
       "   user_name_freq                             post_message_preproced  \n",
       "0              58  thăng cấp_bậc hàm cán_bộ chiến_sỹ hy_sinh đà_n...  \n",
       "1               1  tư_vấn mùa thi nộp hồ_sơ trúng_tuyển chương_tr...  \n",
       "2              64  cơ_quan cạnh_tranh thị_trường quyết_định điều_...  \n",
       "3               1  ca quảng_nam hành_khách chuyến bay bệnh_nhân n...  \n",
       "4               1  học thể dụ c thầy_giáo nguyễn_văn quân phụ trá...  "
      ],
      "text/html": "<div>\n<style scoped>\n    .dataframe tbody tr th:only-of-type {\n        vertical-align: middle;\n    }\n\n    .dataframe tbody tr th {\n        vertical-align: top;\n    }\n\n    .dataframe thead th {\n        text-align: right;\n    }\n</style>\n<table border=\"1\" class=\"dataframe\">\n  <thead>\n    <tr style=\"text-align: right;\">\n      <th></th>\n      <th>id</th>\n      <th>user_name</th>\n      <th>post_message</th>\n      <th>num_like_post</th>\n      <th>num_comment_post</th>\n      <th>num_share_post</th>\n      <th>label</th>\n      <th>user_name_labelEncoder</th>\n      <th>user_name_freq</th>\n      <th>post_message_preproced</th>\n    </tr>\n  </thead>\n  <tbody>\n    <tr>\n      <th>0</th>\n      <td>1</td>\n      <td>389c669730cb6c54314a46be785cea42</td>\n      <td>THĂNG CẤP BẬC HÀM ĐỐI VỚI 2 CÁN BỘ, CHIẾN SỸ H...</td>\n      <td>19477</td>\n      <td>378</td>\n      <td>173</td>\n      <td>0</td>\n      <td>1032</td>\n      <td>58</td>\n      <td>thăng cấp_bậc hàm cán_bộ chiến_sỹ hy_sinh đà_n...</td>\n    </tr>\n    <tr>\n      <th>1</th>\n      <td>3</td>\n      <td>b9f3394d2aff86d85974f5040c401f08</td>\n      <td>TƯ VẤN MÙA THI: Cách nộp hồ sơ để trúng tuyển ...</td>\n      <td>48</td>\n      <td>5</td>\n      <td>19</td>\n      <td>0</td>\n      <td>2804</td>\n      <td>1</td>\n      <td>tư_vấn mùa thi nộp hồ_sơ trúng_tuyển chương_tr...</td>\n    </tr>\n    <tr>\n      <th>2</th>\n      <td>4</td>\n      <td>808e278b22ec6b96f2faf7447d10cd8e</td>\n      <td>Cơ quan Cạnh tranh và Thị trường Anh quyết địn...</td>\n      <td>3</td>\n      <td>0</td>\n      <td>0</td>\n      <td>0</td>\n      <td>2044</td>\n      <td>64</td>\n      <td>cơ_quan cạnh_tranh thị_trường quyết_định điều_...</td>\n    </tr>\n    <tr>\n      <th>3</th>\n      <td>5</td>\n      <td>f81bdd6d8be4c5f64bb664214e47aced</td>\n      <td>Thêm 7 ca tại Quảng Nam liên quan đến hành khá...</td>\n      <td>775</td>\n      <td>0</td>\n      <td>54</td>\n      <td>0</td>\n      <td>3575</td>\n      <td>1</td>\n      <td>ca quảng_nam hành_khách chuyến bay bệnh_nhân n...</td>\n    </tr>\n    <tr>\n      <th>4</th>\n      <td>6</td>\n      <td>ffc4b6bab27c40cfc48e4dc8b8a41e42</td>\n      <td>Trong giờ học Thể dụ‌c do thầy giáo Nguyễn Văn...</td>\n      <td>2</td>\n      <td>1</td>\n      <td>0</td>\n      <td>0</td>\n      <td>3701</td>\n      <td>1</td>\n      <td>học thể dụ c thầy_giáo nguyễn_văn quân phụ trá...</td>\n    </tr>\n  </tbody>\n</table>\n</div>"
     },
     "metadata": {},
     "execution_count": 13
    }
   ],
   "source": [
    "# preprocessing post_message uses stopword\n",
    "from vncorenlp import VnCoreNLP\n",
    "\n",
    "stopwords_file = \"vietnamese-stopwords/vietnamese-stopwords.txt\"\n",
    "\n",
    "stopwords = get_stop_words(stopwords_file)\n",
    "\n",
    "annotator = VnCoreNLP(\"VnCoreNLP/VnCoreNLP-1.1.1.jar\", annotators=\"wseg\", max_heap_size='-Xmx500m')\n",
    "\n",
    "data['post_message_preproced'] = data.post_message.apply(text_preprocessing, stopwords= stopwords, annotator= annotator)\n",
    "\n",
    "data.head(5)"
   ]
  },
  {
   "cell_type": "code",
   "execution_count": 14,
   "metadata": {},
   "outputs": [
    {
     "output_type": "execute_result",
     "data": {
      "text/plain": [
       "   id                         user_name  \\\n",
       "0   1  389c669730cb6c54314a46be785cea42   \n",
       "1   3  b9f3394d2aff86d85974f5040c401f08   \n",
       "2   4  808e278b22ec6b96f2faf7447d10cd8e   \n",
       "3   5  f81bdd6d8be4c5f64bb664214e47aced   \n",
       "4   6  ffc4b6bab27c40cfc48e4dc8b8a41e42   \n",
       "\n",
       "                                        post_message  num_like_post  \\\n",
       "0  THĂNG CẤP BẬC HÀM ĐỐI VỚI 2 CÁN BỘ, CHIẾN SỸ H...          19477   \n",
       "1  TƯ VẤN MÙA THI: Cách nộp hồ sơ để trúng tuyển ...             48   \n",
       "2  Cơ quan Cạnh tranh và Thị trường Anh quyết địn...              3   \n",
       "3  Thêm 7 ca tại Quảng Nam liên quan đến hành khá...            775   \n",
       "4  Trong giờ học Thể dụ‌c do thầy giáo Nguyễn Văn...              2   \n",
       "\n",
       "   num_comment_post  num_share_post  label  user_name_labelEncoder  \\\n",
       "0               378             173      0                    1032   \n",
       "1                 5              19      0                    2804   \n",
       "2                 0               0      0                    2044   \n",
       "3                 0              54      0                    3575   \n",
       "4                 1               0      0                    3701   \n",
       "\n",
       "   user_name_freq                             post_message_preproced  \\\n",
       "0              58  thăng cấp_bậc hàm cán_bộ chiến_sỹ hy_sinh đà_n...   \n",
       "1               1  tư_vấn mùa thi nộp hồ_sơ trúng_tuyển chương_tr...   \n",
       "2              64  cơ_quan cạnh_tranh thị_trường quyết_định điều_...   \n",
       "3               1  ca quảng_nam hành_khách chuyến bay bệnh_nhân n...   \n",
       "4               1  học thể dụ c thầy_giáo nguyễn_văn quân phụ trá...   \n",
       "\n",
       "                            post_message_notStopword  \n",
       "0  thăng cấp_bậc hàm đối_với cán_bộ chiến_sỹ hy_s...  \n",
       "1  tư_vấn mùa thi cách nộp hồ_sơ để trúng_tuyển c...  \n",
       "2  cơ_quan cạnh_tranh và thị_trường anh quyết_địn...  \n",
       "3  thêm ca tại quảng_nam liên_quan đến hành_khách...  \n",
       "4  trong giờ học thể dụ c do thầy_giáo nguyễn_văn...  "
      ],
      "text/html": "<div>\n<style scoped>\n    .dataframe tbody tr th:only-of-type {\n        vertical-align: middle;\n    }\n\n    .dataframe tbody tr th {\n        vertical-align: top;\n    }\n\n    .dataframe thead th {\n        text-align: right;\n    }\n</style>\n<table border=\"1\" class=\"dataframe\">\n  <thead>\n    <tr style=\"text-align: right;\">\n      <th></th>\n      <th>id</th>\n      <th>user_name</th>\n      <th>post_message</th>\n      <th>num_like_post</th>\n      <th>num_comment_post</th>\n      <th>num_share_post</th>\n      <th>label</th>\n      <th>user_name_labelEncoder</th>\n      <th>user_name_freq</th>\n      <th>post_message_preproced</th>\n      <th>post_message_notStopword</th>\n    </tr>\n  </thead>\n  <tbody>\n    <tr>\n      <th>0</th>\n      <td>1</td>\n      <td>389c669730cb6c54314a46be785cea42</td>\n      <td>THĂNG CẤP BẬC HÀM ĐỐI VỚI 2 CÁN BỘ, CHIẾN SỸ H...</td>\n      <td>19477</td>\n      <td>378</td>\n      <td>173</td>\n      <td>0</td>\n      <td>1032</td>\n      <td>58</td>\n      <td>thăng cấp_bậc hàm cán_bộ chiến_sỹ hy_sinh đà_n...</td>\n      <td>thăng cấp_bậc hàm đối_với cán_bộ chiến_sỹ hy_s...</td>\n    </tr>\n    <tr>\n      <th>1</th>\n      <td>3</td>\n      <td>b9f3394d2aff86d85974f5040c401f08</td>\n      <td>TƯ VẤN MÙA THI: Cách nộp hồ sơ để trúng tuyển ...</td>\n      <td>48</td>\n      <td>5</td>\n      <td>19</td>\n      <td>0</td>\n      <td>2804</td>\n      <td>1</td>\n      <td>tư_vấn mùa thi nộp hồ_sơ trúng_tuyển chương_tr...</td>\n      <td>tư_vấn mùa thi cách nộp hồ_sơ để trúng_tuyển c...</td>\n    </tr>\n    <tr>\n      <th>2</th>\n      <td>4</td>\n      <td>808e278b22ec6b96f2faf7447d10cd8e</td>\n      <td>Cơ quan Cạnh tranh và Thị trường Anh quyết địn...</td>\n      <td>3</td>\n      <td>0</td>\n      <td>0</td>\n      <td>0</td>\n      <td>2044</td>\n      <td>64</td>\n      <td>cơ_quan cạnh_tranh thị_trường quyết_định điều_...</td>\n      <td>cơ_quan cạnh_tranh và thị_trường anh quyết_địn...</td>\n    </tr>\n    <tr>\n      <th>3</th>\n      <td>5</td>\n      <td>f81bdd6d8be4c5f64bb664214e47aced</td>\n      <td>Thêm 7 ca tại Quảng Nam liên quan đến hành khá...</td>\n      <td>775</td>\n      <td>0</td>\n      <td>54</td>\n      <td>0</td>\n      <td>3575</td>\n      <td>1</td>\n      <td>ca quảng_nam hành_khách chuyến bay bệnh_nhân n...</td>\n      <td>thêm ca tại quảng_nam liên_quan đến hành_khách...</td>\n    </tr>\n    <tr>\n      <th>4</th>\n      <td>6</td>\n      <td>ffc4b6bab27c40cfc48e4dc8b8a41e42</td>\n      <td>Trong giờ học Thể dụ‌c do thầy giáo Nguyễn Văn...</td>\n      <td>2</td>\n      <td>1</td>\n      <td>0</td>\n      <td>0</td>\n      <td>3701</td>\n      <td>1</td>\n      <td>học thể dụ c thầy_giáo nguyễn_văn quân phụ trá...</td>\n      <td>trong giờ học thể dụ c do thầy_giáo nguyễn_văn...</td>\n    </tr>\n  </tbody>\n</table>\n</div>"
     },
     "metadata": {},
     "execution_count": 14
    }
   ],
   "source": [
    "# preprocessing post_message don't eliminate stopword\n",
    "from vncorenlp import VnCoreNLP\n",
    "\n",
    "stopwords_file = \"vietnamese-stopwords/custom-vietnamese-stopwords.txt\"\n",
    "\n",
    "stopwords = get_stop_words(stopwords_file)\n",
    "\n",
    "annotator = VnCoreNLP(\"VnCoreNLP/VnCoreNLP-1.1.1.jar\", annotators=\"wseg\", max_heap_size='-Xmx500m')\n",
    "\n",
    "data['post_message_notStopword'] = data.post_message.apply(text_preprocessing, stopwords= stopwords, annotator= annotator)\n",
    "\n",
    "data.head(5)"
   ]
  },
  {
   "cell_type": "code",
   "execution_count": 15,
   "metadata": {},
   "outputs": [
    {
     "output_type": "stream",
     "name": "stdout",
     "text": [
      "Size of train set: 4080\nSize of test set: 1020\n"
     ]
    }
   ],
   "source": [
    "# split train, test dataset\n",
    "size = int(0.8*len(data))\n",
    "ids_train = np.random.choice(len(data), replace=False, size=size) # ids of train\n",
    "train = data.iloc[ids_train]\n",
    "\n",
    "ids_test = [x not in ids_train for x in range(len(data))]\n",
    "test = data.iloc[ids_test]\n",
    "\n",
    "print('Size of train set:', len(train))\n",
    "print('Size of test set:', len(test))"
   ]
  },
  {
   "cell_type": "code",
   "execution_count": 16,
   "metadata": {},
   "outputs": [],
   "source": [
    "train.to_csv('train.csv', encoding='utf8', index=False)\n",
    "test.to_csv('test.csv', encoding='utf8', index=False)"
   ]
  },
  {
   "cell_type": "code",
   "execution_count": 17,
   "metadata": {},
   "outputs": [],
   "source": [
    "data = pd.read_csv('train.csv', encoding='utf8')"
   ]
  },
  {
   "cell_type": "code",
   "execution_count": 18,
   "metadata": {},
   "outputs": [
    {
     "output_type": "execute_result",
     "data": {
      "text/plain": [
       "        id                         user_name  \\\n",
       "261    502               7050444021058475008   \n",
       "1766  1613  ab603852d291d90dde0b1b1a2fd09a2a   \n",
       "220    913  6f0a57960e94a6489a552226c4bf05f1   \n",
       "3422  1718  dba9802a1bc2c0c07b64c28dc8e99dba   \n",
       "3798   919  8cec85073924e94f5441a22aeebd68df   \n",
       "...    ...                               ...   \n",
       "4057  2906  353409ae5197e7441fe99c567b9f6851   \n",
       "4058   250  bb9d7a3eebe8a9e1d765c6ab01fae5c2   \n",
       "4060  3467  f97a7ba6cbfa436206142955a1a2b621   \n",
       "4061  2727  bd612a8c9a208033cd7344cba730800a   \n",
       "4076    68               4269663014078944256   \n",
       "\n",
       "                                           post_message  num_like_post  \\\n",
       "261   \"Ghen Cô Vy\" là 1 dự án sáng tạo của Viện Sức ...          22000   \n",
       "1766  Hnay, Hội đồng thẩm phán sẽ ra phán quyết đối ...             18   \n",
       "220   🧪🧪🧪 23h đêm 19/4, CDC Hà Nội thông báo:\\n\\nKết...           9289   \n",
       "3422  Hà Nội chi 114 tỷ phun nước hạ nhiệt: Nhiều qu...              0   \n",
       "3798  Đối với người dùng cá nhân, tài khoản trên Cổn...              6   \n",
       "...                                                 ...            ...   \n",
       "4057  Virus Corona và Lòng Kiêu Ngạo Trung Cộng Tại ...           3100   \n",
       "4058  Ai mới là người đáng thương? -----------------...            567   \n",
       "4060  Coppy.\\n CỨ VỮNG BỀN MÀ TIẾN TỚI!\\n\\n Thái Lan...             63   \n",
       "4061  Tin chờ xác nhận: \"Giao lưu Quốc phòng\" biên g...              0   \n",
       "4076  Bác ở Canada vừa mới báo 1 tin vui từ Canada t...             22   \n",
       "\n",
       "      num_comment_post  num_share_post  label  user_name_labelEncoder  \\\n",
       "261               1000            5500      0                    1804   \n",
       "1766                 3               1      0                    2638   \n",
       "220                 50             184      0                    1783   \n",
       "3422                 0               0      0                    3212   \n",
       "3798                 0               3      0                    2238   \n",
       "...                ...             ...    ...                     ...   \n",
       "4057               901            3200      1                     985   \n",
       "4058               262             377      1                    2833   \n",
       "4060               145               2      1                    3599   \n",
       "4061                 0               0      1                    2851   \n",
       "4076                 2              20      1                    1164   \n",
       "\n",
       "      user_name_freq                             post_message_preproced  \\\n",
       "261               28  ghen vy dự_án sáng_tạo viện sức_khoẻ nghề_nghi...   \n",
       "1766               1  hnay hội_đồng thẩm_phán phán_quyết tử_tù hồ hả...   \n",
       "220                1  emoji đêm cdc hà_nội thông_báo kết_quả trường_...   \n",
       "3422               1  hà_nội chi tỷ phun hạ nhiệt quận_huyện hẹn mùa...   \n",
       "3798               1  tài_khoản cổng dịch_vụ công_quốc_gia đăng_ký t...   \n",
       "...              ...                                                ...   \n",
       "4057               1  virus corona kiêu_ngạo trung cộng virus corona...   \n",
       "4058               1  thương đọc mấy bài_chỉ trích dân mạng tội chửi...   \n",
       "4060               1  copy vững_bền tiến thái_lan sản_xuất triệu xe ...   \n",
       "4061               1  chờ xác_nhận giao_lưu quốc_phòng biên_giới tây...   \n",
       "4076               1  canada báo tin_vui canada cuộc_chiến chống cor...   \n",
       "\n",
       "                               post_message_notStopword  \n",
       "261   ghen cô vy là dự_án sáng_tạo của viện sức_khoẻ...  \n",
       "1766  hnay hội_đồng thẩm_phán sẽ ra phán_quyết đối_v...  \n",
       "220   emoji đêm cdc hà_nội thông_báo kết_quả trường_...  \n",
       "3422  hà_nội chi tỷ phun nước hạ nhiệt nhiều quận_hu...  \n",
       "3798  đối_với người dùng cá_nhân tài_khoản trên cổng...  \n",
       "...                                                 ...  \n",
       "4057  virus corona và lòng kiêu_ngạo trung cộng tại_...  \n",
       "4058  ai mới là người đáng thương đọc mấy bài_chỉ tr...  \n",
       "4060  copy cứ vững_bền mà tiến tới thái_lan một năm ...  \n",
       "4061  tin chờ xác_nhận giao_lưu quốc_phòng biên_giới...  \n",
       "4076  bác canada vừa_mới báo tin_vui từ canada trong...  \n",
       "\n",
       "[1566 rows x 11 columns]"
      ],
      "text/html": "<div>\n<style scoped>\n    .dataframe tbody tr th:only-of-type {\n        vertical-align: middle;\n    }\n\n    .dataframe tbody tr th {\n        vertical-align: top;\n    }\n\n    .dataframe thead th {\n        text-align: right;\n    }\n</style>\n<table border=\"1\" class=\"dataframe\">\n  <thead>\n    <tr style=\"text-align: right;\">\n      <th></th>\n      <th>id</th>\n      <th>user_name</th>\n      <th>post_message</th>\n      <th>num_like_post</th>\n      <th>num_comment_post</th>\n      <th>num_share_post</th>\n      <th>label</th>\n      <th>user_name_labelEncoder</th>\n      <th>user_name_freq</th>\n      <th>post_message_preproced</th>\n      <th>post_message_notStopword</th>\n    </tr>\n  </thead>\n  <tbody>\n    <tr>\n      <th>261</th>\n      <td>502</td>\n      <td>7050444021058475008</td>\n      <td>\"Ghen Cô Vy\" là 1 dự án sáng tạo của Viện Sức ...</td>\n      <td>22000</td>\n      <td>1000</td>\n      <td>5500</td>\n      <td>0</td>\n      <td>1804</td>\n      <td>28</td>\n      <td>ghen vy dự_án sáng_tạo viện sức_khoẻ nghề_nghi...</td>\n      <td>ghen cô vy là dự_án sáng_tạo của viện sức_khoẻ...</td>\n    </tr>\n    <tr>\n      <th>1766</th>\n      <td>1613</td>\n      <td>ab603852d291d90dde0b1b1a2fd09a2a</td>\n      <td>Hnay, Hội đồng thẩm phán sẽ ra phán quyết đối ...</td>\n      <td>18</td>\n      <td>3</td>\n      <td>1</td>\n      <td>0</td>\n      <td>2638</td>\n      <td>1</td>\n      <td>hnay hội_đồng thẩm_phán phán_quyết tử_tù hồ hả...</td>\n      <td>hnay hội_đồng thẩm_phán sẽ ra phán_quyết đối_v...</td>\n    </tr>\n    <tr>\n      <th>220</th>\n      <td>913</td>\n      <td>6f0a57960e94a6489a552226c4bf05f1</td>\n      <td>🧪🧪🧪 23h đêm 19/4, CDC Hà Nội thông báo:\\n\\nKết...</td>\n      <td>9289</td>\n      <td>50</td>\n      <td>184</td>\n      <td>0</td>\n      <td>1783</td>\n      <td>1</td>\n      <td>emoji đêm cdc hà_nội thông_báo kết_quả trường_...</td>\n      <td>emoji đêm cdc hà_nội thông_báo kết_quả trường_...</td>\n    </tr>\n    <tr>\n      <th>3422</th>\n      <td>1718</td>\n      <td>dba9802a1bc2c0c07b64c28dc8e99dba</td>\n      <td>Hà Nội chi 114 tỷ phun nước hạ nhiệt: Nhiều qu...</td>\n      <td>0</td>\n      <td>0</td>\n      <td>0</td>\n      <td>0</td>\n      <td>3212</td>\n      <td>1</td>\n      <td>hà_nội chi tỷ phun hạ nhiệt quận_huyện hẹn mùa...</td>\n      <td>hà_nội chi tỷ phun nước hạ nhiệt nhiều quận_hu...</td>\n    </tr>\n    <tr>\n      <th>3798</th>\n      <td>919</td>\n      <td>8cec85073924e94f5441a22aeebd68df</td>\n      <td>Đối với người dùng cá nhân, tài khoản trên Cổn...</td>\n      <td>6</td>\n      <td>0</td>\n      <td>3</td>\n      <td>0</td>\n      <td>2238</td>\n      <td>1</td>\n      <td>tài_khoản cổng dịch_vụ công_quốc_gia đăng_ký t...</td>\n      <td>đối_với người dùng cá_nhân tài_khoản trên cổng...</td>\n    </tr>\n    <tr>\n      <th>...</th>\n      <td>...</td>\n      <td>...</td>\n      <td>...</td>\n      <td>...</td>\n      <td>...</td>\n      <td>...</td>\n      <td>...</td>\n      <td>...</td>\n      <td>...</td>\n      <td>...</td>\n      <td>...</td>\n    </tr>\n    <tr>\n      <th>4057</th>\n      <td>2906</td>\n      <td>353409ae5197e7441fe99c567b9f6851</td>\n      <td>Virus Corona và Lòng Kiêu Ngạo Trung Cộng Tại ...</td>\n      <td>3100</td>\n      <td>901</td>\n      <td>3200</td>\n      <td>1</td>\n      <td>985</td>\n      <td>1</td>\n      <td>virus corona kiêu_ngạo trung cộng virus corona...</td>\n      <td>virus corona và lòng kiêu_ngạo trung cộng tại_...</td>\n    </tr>\n    <tr>\n      <th>4058</th>\n      <td>250</td>\n      <td>bb9d7a3eebe8a9e1d765c6ab01fae5c2</td>\n      <td>Ai mới là người đáng thương? -----------------...</td>\n      <td>567</td>\n      <td>262</td>\n      <td>377</td>\n      <td>1</td>\n      <td>2833</td>\n      <td>1</td>\n      <td>thương đọc mấy bài_chỉ trích dân mạng tội chửi...</td>\n      <td>ai mới là người đáng thương đọc mấy bài_chỉ tr...</td>\n    </tr>\n    <tr>\n      <th>4060</th>\n      <td>3467</td>\n      <td>f97a7ba6cbfa436206142955a1a2b621</td>\n      <td>Coppy.\\n CỨ VỮNG BỀN MÀ TIẾN TỚI!\\n\\n Thái Lan...</td>\n      <td>63</td>\n      <td>145</td>\n      <td>2</td>\n      <td>1</td>\n      <td>3599</td>\n      <td>1</td>\n      <td>copy vững_bền tiến thái_lan sản_xuất triệu xe ...</td>\n      <td>copy cứ vững_bền mà tiến tới thái_lan một năm ...</td>\n    </tr>\n    <tr>\n      <th>4061</th>\n      <td>2727</td>\n      <td>bd612a8c9a208033cd7344cba730800a</td>\n      <td>Tin chờ xác nhận: \"Giao lưu Quốc phòng\" biên g...</td>\n      <td>0</td>\n      <td>0</td>\n      <td>0</td>\n      <td>1</td>\n      <td>2851</td>\n      <td>1</td>\n      <td>chờ xác_nhận giao_lưu quốc_phòng biên_giới tây...</td>\n      <td>tin chờ xác_nhận giao_lưu quốc_phòng biên_giới...</td>\n    </tr>\n    <tr>\n      <th>4076</th>\n      <td>68</td>\n      <td>4269663014078944256</td>\n      <td>Bác ở Canada vừa mới báo 1 tin vui từ Canada t...</td>\n      <td>22</td>\n      <td>2</td>\n      <td>20</td>\n      <td>1</td>\n      <td>1164</td>\n      <td>1</td>\n      <td>canada báo tin_vui canada cuộc_chiến chống cor...</td>\n      <td>bác canada vừa_mới báo tin_vui từ canada trong...</td>\n    </tr>\n  </tbody>\n</table>\n<p>1566 rows × 11 columns</p>\n</div>"
     },
     "metadata": {},
     "execution_count": 18
    }
   ],
   "source": [
    "# down samples\n",
    "index_0 = list(data[data.label == 0].index)\n",
    "index_1 = list(data[data.label == 1].index)\n",
    "\n",
    "ids = list(np.random.choice(index_0, size=int(1.1*len(index_1)), replace=False))\n",
    "\n",
    "index = ids + index_1\n",
    "\n",
    "data.iloc[index]"
   ]
  },
  {
   "cell_type": "code",
   "execution_count": 19,
   "metadata": {},
   "outputs": [],
   "source": [
    "data.iloc[index].to_csv('data_balance.csv', encoding='utf-8', index=False)"
   ]
  },
  {
   "cell_type": "code",
   "execution_count": null,
   "metadata": {},
   "outputs": [],
   "source": []
  }
 ]
}