{
 "metadata": {
  "language_info": {
   "codemirror_mode": {
    "name": "ipython",
    "version": 3
   },
   "file_extension": ".py",
   "mimetype": "text/x-python",
   "name": "python",
   "nbconvert_exporter": "python",
   "pygments_lexer": "ipython3",
   "version": "3.8.5-final"
  },
  "orig_nbformat": 2,
  "kernelspec": {
   "name": "python3",
   "display_name": "Python 3",
   "language": "python"
  }
 },
 "nbformat": 4,
 "nbformat_minor": 2,
 "cells": [
  {
   "cell_type": "code",
   "execution_count": 1,
   "metadata": {},
   "outputs": [],
   "source": [
    "import numpy as np \n",
    "import pandas as pd"
   ]
  },
  {
   "cell_type": "code",
   "execution_count": 2,
   "metadata": {},
   "outputs": [],
   "source": [
    "from utils import *\n",
    "from preprocessing import *"
   ]
  },
  {
   "cell_type": "code",
   "execution_count": 3,
   "metadata": {},
   "outputs": [],
   "source": [
    "# load data using utf8 format\n",
    "\n",
    "data = pd.read_csv('./datasets/public_train.csv', encoding='utf-8')"
   ]
  },
  {
   "cell_type": "code",
   "execution_count": 4,
   "metadata": {},
   "outputs": [
    {
     "output_type": "stream",
     "name": "stdout",
     "text": [
      "num_like_post has nan False\nnum_comment_post has nan False\nnum_share_post has nan False\n"
     ]
    }
   ],
   "source": [
    "# fill 0 to num_like_post, num_commnet_post, num_share_post\n",
    "data.num_like_post.fillna(0, inplace=True)\n",
    "data.num_comment_post.fillna(0, inplace=True)\n",
    "data.num_share_post.fillna(0, inplace=True)\n",
    "\n",
    "# check again\n",
    "check_like = data.num_like_post.isna().sum()\n",
    "check_commnet = data.num_comment_post.isna().sum()\n",
    "check_share = data.num_share_post.isna().sum()\n",
    "\n",
    "print(f'num_like_post has nan {check_like != 0}')\n",
    "print(f'num_comment_post has nan {check_commnet != 0}')\n",
    "print(f'num_share_post has nan {check_share != 0}')"
   ]
  },
  {
   "cell_type": "code",
   "execution_count": 5,
   "metadata": {},
   "outputs": [
    {
     "output_type": "execute_result",
     "data": {
      "text/plain": [
       "        id                                       post_message num_like_post  \\\n",
       "0        1  THĂNG CẤP BẬC HÀM ĐỐI VỚI 2 CÁN BỘ, CHIẾN SỸ H...         19477   \n",
       "1        2                                              <URL>            11   \n",
       "2        3  TƯ VẤN MÙA THI: Cách nộp hồ sơ để trúng tuyển ...            48   \n",
       "3        4  Cơ quan Cạnh tranh và Thị trường Anh quyết địn...             3   \n",
       "4        5  Thêm 7 ca tại Quảng Nam liên quan đến hành khá...           775   \n",
       "...    ...                                                ...           ...   \n",
       "4367  4368  BÀ MẸ VIỆT NAM ANH HÙNG 95 TUỔI MAY KHẨU TRANG...          5800   \n",
       "4368  4369  Nguồn cung khan kiếm nhưng nhu cầu cao tạo áp ...            21   \n",
       "4369  4370  Lời cảnh tỉnh cho các thanh niên dân TỔ...tốc ...             3   \n",
       "4370  4371  Đến bây giờ mới biết chỉ cần học lái xe hạng B...           144   \n",
       "4371  4372  Tư lệnh ngành cấm bay với phi công Pakistan, r...            24   \n",
       "\n",
       "     num_comment_post num_share_post  label  \n",
       "0                 378          173.0      0  \n",
       "1                   5              3      0  \n",
       "2                   5           19.0      0  \n",
       "3                   0            0.0      0  \n",
       "4                   0           54.0      0  \n",
       "...               ...            ...    ...  \n",
       "4367             1300          12000      0  \n",
       "4368                1              0      0  \n",
       "4369                1              0      1  \n",
       "4370               38             87      1  \n",
       "4371                9              0      0  \n",
       "\n",
       "[4372 rows x 6 columns]"
      ],
      "text/html": "<div>\n<style scoped>\n    .dataframe tbody tr th:only-of-type {\n        vertical-align: middle;\n    }\n\n    .dataframe tbody tr th {\n        vertical-align: top;\n    }\n\n    .dataframe thead th {\n        text-align: right;\n    }\n</style>\n<table border=\"1\" class=\"dataframe\">\n  <thead>\n    <tr style=\"text-align: right;\">\n      <th></th>\n      <th>id</th>\n      <th>post_message</th>\n      <th>num_like_post</th>\n      <th>num_comment_post</th>\n      <th>num_share_post</th>\n      <th>label</th>\n    </tr>\n  </thead>\n  <tbody>\n    <tr>\n      <th>0</th>\n      <td>1</td>\n      <td>THĂNG CẤP BẬC HÀM ĐỐI VỚI 2 CÁN BỘ, CHIẾN SỸ H...</td>\n      <td>19477</td>\n      <td>378</td>\n      <td>173.0</td>\n      <td>0</td>\n    </tr>\n    <tr>\n      <th>1</th>\n      <td>2</td>\n      <td>&lt;URL&gt;</td>\n      <td>11</td>\n      <td>5</td>\n      <td>3</td>\n      <td>0</td>\n    </tr>\n    <tr>\n      <th>2</th>\n      <td>3</td>\n      <td>TƯ VẤN MÙA THI: Cách nộp hồ sơ để trúng tuyển ...</td>\n      <td>48</td>\n      <td>5</td>\n      <td>19.0</td>\n      <td>0</td>\n    </tr>\n    <tr>\n      <th>3</th>\n      <td>4</td>\n      <td>Cơ quan Cạnh tranh và Thị trường Anh quyết địn...</td>\n      <td>3</td>\n      <td>0</td>\n      <td>0.0</td>\n      <td>0</td>\n    </tr>\n    <tr>\n      <th>4</th>\n      <td>5</td>\n      <td>Thêm 7 ca tại Quảng Nam liên quan đến hành khá...</td>\n      <td>775</td>\n      <td>0</td>\n      <td>54.0</td>\n      <td>0</td>\n    </tr>\n    <tr>\n      <th>...</th>\n      <td>...</td>\n      <td>...</td>\n      <td>...</td>\n      <td>...</td>\n      <td>...</td>\n      <td>...</td>\n    </tr>\n    <tr>\n      <th>4367</th>\n      <td>4368</td>\n      <td>BÀ MẸ VIỆT NAM ANH HÙNG 95 TUỔI MAY KHẨU TRANG...</td>\n      <td>5800</td>\n      <td>1300</td>\n      <td>12000</td>\n      <td>0</td>\n    </tr>\n    <tr>\n      <th>4368</th>\n      <td>4369</td>\n      <td>Nguồn cung khan kiếm nhưng nhu cầu cao tạo áp ...</td>\n      <td>21</td>\n      <td>1</td>\n      <td>0</td>\n      <td>0</td>\n    </tr>\n    <tr>\n      <th>4369</th>\n      <td>4370</td>\n      <td>Lời cảnh tỉnh cho các thanh niên dân TỔ...tốc ...</td>\n      <td>3</td>\n      <td>1</td>\n      <td>0</td>\n      <td>1</td>\n    </tr>\n    <tr>\n      <th>4370</th>\n      <td>4371</td>\n      <td>Đến bây giờ mới biết chỉ cần học lái xe hạng B...</td>\n      <td>144</td>\n      <td>38</td>\n      <td>87</td>\n      <td>1</td>\n    </tr>\n    <tr>\n      <th>4371</th>\n      <td>4372</td>\n      <td>Tư lệnh ngành cấm bay với phi công Pakistan, r...</td>\n      <td>24</td>\n      <td>9</td>\n      <td>0</td>\n      <td>0</td>\n    </tr>\n  </tbody>\n</table>\n<p>4372 rows × 6 columns</p>\n</div>"
     },
     "metadata": {},
     "execution_count": 5
    }
   ],
   "source": [
    "# drop id, user_name, timestamp_post columns\n",
    "data = data.drop(['user_name', 'timestamp_post'], axis=1).reset_index(drop=True)\n",
    "\n",
    "# view data\n",
    "data"
   ]
  },
  {
   "cell_type": "code",
   "execution_count": 6,
   "metadata": {},
   "outputs": [
    {
     "output_type": "execute_result",
     "data": {
      "text/plain": [
       "        id                                       post_message num_like_post  \\\n",
       "0        1  THĂNG CẤP BẬC HÀM ĐỐI VỚI 2 CÁN BỘ, CHIẾN SỸ H...         19477   \n",
       "1        3  TƯ VẤN MÙA THI: Cách nộp hồ sơ để trúng tuyển ...            48   \n",
       "2        4  Cơ quan Cạnh tranh và Thị trường Anh quyết địn...             3   \n",
       "3        5  Thêm 7 ca tại Quảng Nam liên quan đến hành khá...           775   \n",
       "4        6  Trong giờ học Thể dụ‌c do thầy giáo Nguyễn Văn...             2   \n",
       "...    ...                                                ...           ...   \n",
       "4307  4368  BÀ MẸ VIỆT NAM ANH HÙNG 95 TUỔI MAY KHẨU TRANG...          5800   \n",
       "4308  4369  Nguồn cung khan kiếm nhưng nhu cầu cao tạo áp ...            21   \n",
       "4309  4370  Lời cảnh tỉnh cho các thanh niên dân TỔ...tốc ...             3   \n",
       "4310  4371  Đến bây giờ mới biết chỉ cần học lái xe hạng B...           144   \n",
       "4311  4372  Tư lệnh ngành cấm bay với phi công Pakistan, r...            24   \n",
       "\n",
       "     num_comment_post num_share_post  label  \n",
       "0                 378          173.0      0  \n",
       "1                   5           19.0      0  \n",
       "2                   0            0.0      0  \n",
       "3                   0           54.0      0  \n",
       "4                   1              0      0  \n",
       "...               ...            ...    ...  \n",
       "4307             1300          12000      0  \n",
       "4308                1              0      0  \n",
       "4309                1              0      1  \n",
       "4310               38             87      1  \n",
       "4311                9              0      0  \n",
       "\n",
       "[4312 rows x 6 columns]"
      ],
      "text/html": "<div>\n<style scoped>\n    .dataframe tbody tr th:only-of-type {\n        vertical-align: middle;\n    }\n\n    .dataframe tbody tr th {\n        vertical-align: top;\n    }\n\n    .dataframe thead th {\n        text-align: right;\n    }\n</style>\n<table border=\"1\" class=\"dataframe\">\n  <thead>\n    <tr style=\"text-align: right;\">\n      <th></th>\n      <th>id</th>\n      <th>post_message</th>\n      <th>num_like_post</th>\n      <th>num_comment_post</th>\n      <th>num_share_post</th>\n      <th>label</th>\n    </tr>\n  </thead>\n  <tbody>\n    <tr>\n      <th>0</th>\n      <td>1</td>\n      <td>THĂNG CẤP BẬC HÀM ĐỐI VỚI 2 CÁN BỘ, CHIẾN SỸ H...</td>\n      <td>19477</td>\n      <td>378</td>\n      <td>173.0</td>\n      <td>0</td>\n    </tr>\n    <tr>\n      <th>1</th>\n      <td>3</td>\n      <td>TƯ VẤN MÙA THI: Cách nộp hồ sơ để trúng tuyển ...</td>\n      <td>48</td>\n      <td>5</td>\n      <td>19.0</td>\n      <td>0</td>\n    </tr>\n    <tr>\n      <th>2</th>\n      <td>4</td>\n      <td>Cơ quan Cạnh tranh và Thị trường Anh quyết địn...</td>\n      <td>3</td>\n      <td>0</td>\n      <td>0.0</td>\n      <td>0</td>\n    </tr>\n    <tr>\n      <th>3</th>\n      <td>5</td>\n      <td>Thêm 7 ca tại Quảng Nam liên quan đến hành khá...</td>\n      <td>775</td>\n      <td>0</td>\n      <td>54.0</td>\n      <td>0</td>\n    </tr>\n    <tr>\n      <th>4</th>\n      <td>6</td>\n      <td>Trong giờ học Thể dụ‌c do thầy giáo Nguyễn Văn...</td>\n      <td>2</td>\n      <td>1</td>\n      <td>0</td>\n      <td>0</td>\n    </tr>\n    <tr>\n      <th>...</th>\n      <td>...</td>\n      <td>...</td>\n      <td>...</td>\n      <td>...</td>\n      <td>...</td>\n      <td>...</td>\n    </tr>\n    <tr>\n      <th>4307</th>\n      <td>4368</td>\n      <td>BÀ MẸ VIỆT NAM ANH HÙNG 95 TUỔI MAY KHẨU TRANG...</td>\n      <td>5800</td>\n      <td>1300</td>\n      <td>12000</td>\n      <td>0</td>\n    </tr>\n    <tr>\n      <th>4308</th>\n      <td>4369</td>\n      <td>Nguồn cung khan kiếm nhưng nhu cầu cao tạo áp ...</td>\n      <td>21</td>\n      <td>1</td>\n      <td>0</td>\n      <td>0</td>\n    </tr>\n    <tr>\n      <th>4309</th>\n      <td>4370</td>\n      <td>Lời cảnh tỉnh cho các thanh niên dân TỔ...tốc ...</td>\n      <td>3</td>\n      <td>1</td>\n      <td>0</td>\n      <td>1</td>\n    </tr>\n    <tr>\n      <th>4310</th>\n      <td>4371</td>\n      <td>Đến bây giờ mới biết chỉ cần học lái xe hạng B...</td>\n      <td>144</td>\n      <td>38</td>\n      <td>87</td>\n      <td>1</td>\n    </tr>\n    <tr>\n      <th>4311</th>\n      <td>4372</td>\n      <td>Tư lệnh ngành cấm bay với phi công Pakistan, r...</td>\n      <td>24</td>\n      <td>9</td>\n      <td>0</td>\n      <td>0</td>\n    </tr>\n  </tbody>\n</table>\n<p>4312 rows × 6 columns</p>\n</div>"
     },
     "metadata": {},
     "execution_count": 6
    }
   ],
   "source": [
    "# drop duplicate samples has <URL>, [<URL>](<URL>)\n",
    "char_drop = ['<URL>', '[<URL>](<URL>)']\n",
    "index = []\n",
    "for char in char_drop:\n",
    "    index.extend(list(data[data.post_message == char].index))\n",
    "data = data.drop(index, axis=0).reset_index(drop=True)\n",
    "\n",
    "# view data\n",
    "data"
   ]
  },
  {
   "cell_type": "code",
   "execution_count": 7,
   "metadata": {},
   "outputs": [
    {
     "output_type": "stream",
     "name": "stdout",
     "text": [
      "<class 'pandas.core.frame.DataFrame'>\nRangeIndex: 4312 entries, 0 to 4311\nData columns (total 6 columns):\n #   Column            Non-Null Count  Dtype \n---  ------            --------------  ----- \n 0   id                4312 non-null   int64 \n 1   post_message      4311 non-null   object\n 2   num_like_post     4312 non-null   object\n 3   num_comment_post  4312 non-null   object\n 4   num_share_post    4312 non-null   object\n 5   label             4312 non-null   int64 \ndtypes: int64(2), object(4)\nmemory usage: 202.2+ KB\n"
     ]
    }
   ],
   "source": [
    "#check info\n",
    "data.info()"
   ]
  },
  {
   "cell_type": "code",
   "execution_count": 8,
   "metadata": {},
   "outputs": [],
   "source": [
    "index = []\n",
    "for i in range(len(data)):\n",
    "    try:\n",
    "        int(float(data.num_comment_post[i]))\n",
    "        int(float(data.num_like_post[i]))\n",
    "        int(float(data.num_share_post[i]))\n",
    "    except:\n",
    "        index.append(i)\n",
    "data_temp = data.iloc[index,:]"
   ]
  },
  {
   "cell_type": "code",
   "execution_count": 9,
   "metadata": {},
   "outputs": [
    {
     "output_type": "execute_result",
     "data": {
      "text/plain": [
       "        id                                       post_message num_like_post  \\\n",
       "0        1  THĂNG CẤP BẬC HÀM ĐỐI VỚI 2 CÁN BỘ, CHIẾN SỸ H...         19477   \n",
       "1        3  TƯ VẤN MÙA THI: Cách nộp hồ sơ để trúng tuyển ...            48   \n",
       "2        4  Cơ quan Cạnh tranh và Thị trường Anh quyết địn...             3   \n",
       "3        5  Thêm 7 ca tại Quảng Nam liên quan đến hành khá...           775   \n",
       "4        6  Trong giờ học Thể dụ‌c do thầy giáo Nguyễn Văn...             2   \n",
       "...    ...                                                ...           ...   \n",
       "4220  4368  BÀ MẸ VIỆT NAM ANH HÙNG 95 TUỔI MAY KHẨU TRANG...          5800   \n",
       "4221  4369  Nguồn cung khan kiếm nhưng nhu cầu cao tạo áp ...            21   \n",
       "4222  4370  Lời cảnh tỉnh cho các thanh niên dân TỔ...tốc ...             3   \n",
       "4223  4371  Đến bây giờ mới biết chỉ cần học lái xe hạng B...           144   \n",
       "4224  4372  Tư lệnh ngành cấm bay với phi công Pakistan, r...            24   \n",
       "\n",
       "     num_comment_post num_share_post  label  \n",
       "0                 378          173.0      0  \n",
       "1                   5           19.0      0  \n",
       "2                   0            0.0      0  \n",
       "3                   0           54.0      0  \n",
       "4                   1              0      0  \n",
       "...               ...            ...    ...  \n",
       "4220             1300          12000      0  \n",
       "4221                1              0      0  \n",
       "4222                1              0      1  \n",
       "4223               38             87      1  \n",
       "4224                9              0      0  \n",
       "\n",
       "[4225 rows x 6 columns]"
      ],
      "text/html": "<div>\n<style scoped>\n    .dataframe tbody tr th:only-of-type {\n        vertical-align: middle;\n    }\n\n    .dataframe tbody tr th {\n        vertical-align: top;\n    }\n\n    .dataframe thead th {\n        text-align: right;\n    }\n</style>\n<table border=\"1\" class=\"dataframe\">\n  <thead>\n    <tr style=\"text-align: right;\">\n      <th></th>\n      <th>id</th>\n      <th>post_message</th>\n      <th>num_like_post</th>\n      <th>num_comment_post</th>\n      <th>num_share_post</th>\n      <th>label</th>\n    </tr>\n  </thead>\n  <tbody>\n    <tr>\n      <th>0</th>\n      <td>1</td>\n      <td>THĂNG CẤP BẬC HÀM ĐỐI VỚI 2 CÁN BỘ, CHIẾN SỸ H...</td>\n      <td>19477</td>\n      <td>378</td>\n      <td>173.0</td>\n      <td>0</td>\n    </tr>\n    <tr>\n      <th>1</th>\n      <td>3</td>\n      <td>TƯ VẤN MÙA THI: Cách nộp hồ sơ để trúng tuyển ...</td>\n      <td>48</td>\n      <td>5</td>\n      <td>19.0</td>\n      <td>0</td>\n    </tr>\n    <tr>\n      <th>2</th>\n      <td>4</td>\n      <td>Cơ quan Cạnh tranh và Thị trường Anh quyết địn...</td>\n      <td>3</td>\n      <td>0</td>\n      <td>0.0</td>\n      <td>0</td>\n    </tr>\n    <tr>\n      <th>3</th>\n      <td>5</td>\n      <td>Thêm 7 ca tại Quảng Nam liên quan đến hành khá...</td>\n      <td>775</td>\n      <td>0</td>\n      <td>54.0</td>\n      <td>0</td>\n    </tr>\n    <tr>\n      <th>4</th>\n      <td>6</td>\n      <td>Trong giờ học Thể dụ‌c do thầy giáo Nguyễn Văn...</td>\n      <td>2</td>\n      <td>1</td>\n      <td>0</td>\n      <td>0</td>\n    </tr>\n    <tr>\n      <th>...</th>\n      <td>...</td>\n      <td>...</td>\n      <td>...</td>\n      <td>...</td>\n      <td>...</td>\n      <td>...</td>\n    </tr>\n    <tr>\n      <th>4220</th>\n      <td>4368</td>\n      <td>BÀ MẸ VIỆT NAM ANH HÙNG 95 TUỔI MAY KHẨU TRANG...</td>\n      <td>5800</td>\n      <td>1300</td>\n      <td>12000</td>\n      <td>0</td>\n    </tr>\n    <tr>\n      <th>4221</th>\n      <td>4369</td>\n      <td>Nguồn cung khan kiếm nhưng nhu cầu cao tạo áp ...</td>\n      <td>21</td>\n      <td>1</td>\n      <td>0</td>\n      <td>0</td>\n    </tr>\n    <tr>\n      <th>4222</th>\n      <td>4370</td>\n      <td>Lời cảnh tỉnh cho các thanh niên dân TỔ...tốc ...</td>\n      <td>3</td>\n      <td>1</td>\n      <td>0</td>\n      <td>1</td>\n    </tr>\n    <tr>\n      <th>4223</th>\n      <td>4371</td>\n      <td>Đến bây giờ mới biết chỉ cần học lái xe hạng B...</td>\n      <td>144</td>\n      <td>38</td>\n      <td>87</td>\n      <td>1</td>\n    </tr>\n    <tr>\n      <th>4224</th>\n      <td>4372</td>\n      <td>Tư lệnh ngành cấm bay với phi công Pakistan, r...</td>\n      <td>24</td>\n      <td>9</td>\n      <td>0</td>\n      <td>0</td>\n    </tr>\n  </tbody>\n</table>\n<p>4225 rows × 6 columns</p>\n</div>"
     },
     "metadata": {},
     "execution_count": 9
    }
   ],
   "source": [
    "data = data.drop(index=index, axis=0).reset_index(drop=True)\n",
    "data"
   ]
  },
  {
   "cell_type": "code",
   "execution_count": 10,
   "metadata": {},
   "outputs": [
    {
     "output_type": "stream",
     "name": "stdout",
     "text": [
      "<class 'pandas.core.frame.DataFrame'>\nRangeIndex: 4225 entries, 0 to 4224\nData columns (total 6 columns):\n #   Column            Non-Null Count  Dtype \n---  ------            --------------  ----- \n 0   id                4225 non-null   int64 \n 1   post_message      4224 non-null   object\n 2   num_like_post     4225 non-null   object\n 3   num_comment_post  4225 non-null   object\n 4   num_share_post    4225 non-null   object\n 5   label             4225 non-null   int64 \ndtypes: int64(2), object(4)\nmemory usage: 198.2+ KB\n"
     ]
    }
   ],
   "source": [
    "data.info()"
   ]
  },
  {
   "cell_type": "code",
   "execution_count": 11,
   "metadata": {},
   "outputs": [
    {
     "output_type": "execute_result",
     "data": {
      "text/plain": [
       "        id                                       post_message  num_like_post  \\\n",
       "0        1  THĂNG CẤP BẬC HÀM ĐỐI VỚI 2 CÁN BỘ, CHIẾN SỸ H...          19477   \n",
       "1        3  TƯ VẤN MÙA THI: Cách nộp hồ sơ để trúng tuyển ...             48   \n",
       "2        4  Cơ quan Cạnh tranh và Thị trường Anh quyết địn...              3   \n",
       "3        5  Thêm 7 ca tại Quảng Nam liên quan đến hành khá...            775   \n",
       "4        6  Trong giờ học Thể dụ‌c do thầy giáo Nguyễn Văn...              2   \n",
       "...    ...                                                ...            ...   \n",
       "4220  4368  BÀ MẸ VIỆT NAM ANH HÙNG 95 TUỔI MAY KHẨU TRANG...           5800   \n",
       "4221  4369  Nguồn cung khan kiếm nhưng nhu cầu cao tạo áp ...             21   \n",
       "4222  4370  Lời cảnh tỉnh cho các thanh niên dân TỔ...tốc ...              3   \n",
       "4223  4371  Đến bây giờ mới biết chỉ cần học lái xe hạng B...            144   \n",
       "4224  4372  Tư lệnh ngành cấm bay với phi công Pakistan, r...             24   \n",
       "\n",
       "      num_comment_post  num_share_post  label  \n",
       "0                  378             173      0  \n",
       "1                    5              19      0  \n",
       "2                    0               0      0  \n",
       "3                    0              54      0  \n",
       "4                    1               0      0  \n",
       "...                ...             ...    ...  \n",
       "4220              1300           12000      0  \n",
       "4221                 1               0      0  \n",
       "4222                 1               0      1  \n",
       "4223                38              87      1  \n",
       "4224                 9               0      0  \n",
       "\n",
       "[4225 rows x 6 columns]"
      ],
      "text/html": "<div>\n<style scoped>\n    .dataframe tbody tr th:only-of-type {\n        vertical-align: middle;\n    }\n\n    .dataframe tbody tr th {\n        vertical-align: top;\n    }\n\n    .dataframe thead th {\n        text-align: right;\n    }\n</style>\n<table border=\"1\" class=\"dataframe\">\n  <thead>\n    <tr style=\"text-align: right;\">\n      <th></th>\n      <th>id</th>\n      <th>post_message</th>\n      <th>num_like_post</th>\n      <th>num_comment_post</th>\n      <th>num_share_post</th>\n      <th>label</th>\n    </tr>\n  </thead>\n  <tbody>\n    <tr>\n      <th>0</th>\n      <td>1</td>\n      <td>THĂNG CẤP BẬC HÀM ĐỐI VỚI 2 CÁN BỘ, CHIẾN SỸ H...</td>\n      <td>19477</td>\n      <td>378</td>\n      <td>173</td>\n      <td>0</td>\n    </tr>\n    <tr>\n      <th>1</th>\n      <td>3</td>\n      <td>TƯ VẤN MÙA THI: Cách nộp hồ sơ để trúng tuyển ...</td>\n      <td>48</td>\n      <td>5</td>\n      <td>19</td>\n      <td>0</td>\n    </tr>\n    <tr>\n      <th>2</th>\n      <td>4</td>\n      <td>Cơ quan Cạnh tranh và Thị trường Anh quyết địn...</td>\n      <td>3</td>\n      <td>0</td>\n      <td>0</td>\n      <td>0</td>\n    </tr>\n    <tr>\n      <th>3</th>\n      <td>5</td>\n      <td>Thêm 7 ca tại Quảng Nam liên quan đến hành khá...</td>\n      <td>775</td>\n      <td>0</td>\n      <td>54</td>\n      <td>0</td>\n    </tr>\n    <tr>\n      <th>4</th>\n      <td>6</td>\n      <td>Trong giờ học Thể dụ‌c do thầy giáo Nguyễn Văn...</td>\n      <td>2</td>\n      <td>1</td>\n      <td>0</td>\n      <td>0</td>\n    </tr>\n    <tr>\n      <th>...</th>\n      <td>...</td>\n      <td>...</td>\n      <td>...</td>\n      <td>...</td>\n      <td>...</td>\n      <td>...</td>\n    </tr>\n    <tr>\n      <th>4220</th>\n      <td>4368</td>\n      <td>BÀ MẸ VIỆT NAM ANH HÙNG 95 TUỔI MAY KHẨU TRANG...</td>\n      <td>5800</td>\n      <td>1300</td>\n      <td>12000</td>\n      <td>0</td>\n    </tr>\n    <tr>\n      <th>4221</th>\n      <td>4369</td>\n      <td>Nguồn cung khan kiếm nhưng nhu cầu cao tạo áp ...</td>\n      <td>21</td>\n      <td>1</td>\n      <td>0</td>\n      <td>0</td>\n    </tr>\n    <tr>\n      <th>4222</th>\n      <td>4370</td>\n      <td>Lời cảnh tỉnh cho các thanh niên dân TỔ...tốc ...</td>\n      <td>3</td>\n      <td>1</td>\n      <td>0</td>\n      <td>1</td>\n    </tr>\n    <tr>\n      <th>4223</th>\n      <td>4371</td>\n      <td>Đến bây giờ mới biết chỉ cần học lái xe hạng B...</td>\n      <td>144</td>\n      <td>38</td>\n      <td>87</td>\n      <td>1</td>\n    </tr>\n    <tr>\n      <th>4224</th>\n      <td>4372</td>\n      <td>Tư lệnh ngành cấm bay với phi công Pakistan, r...</td>\n      <td>24</td>\n      <td>9</td>\n      <td>0</td>\n      <td>0</td>\n    </tr>\n  </tbody>\n</table>\n<p>4225 rows × 6 columns</p>\n</div>"
     },
     "metadata": {},
     "execution_count": 11
    }
   ],
   "source": [
    "# convert post_message, num_like_post, num_comment_post, num_share_post to int64\n",
    "columns = ['num_like_post', 'num_comment_post', 'num_share_post']\n",
    "\n",
    "data[columns] = data[columns].apply(pd.to_numeric).astype('int64')\n",
    "\n",
    "data"
   ]
  },
  {
   "cell_type": "code",
   "execution_count": 12,
   "metadata": {},
   "outputs": [
    {
     "output_type": "stream",
     "name": "stdout",
     "text": [
      "<class 'pandas.core.frame.DataFrame'>\nRangeIndex: 4225 entries, 0 to 4224\nData columns (total 6 columns):\n #   Column            Non-Null Count  Dtype \n---  ------            --------------  ----- \n 0   id                4225 non-null   int64 \n 1   post_message      4224 non-null   object\n 2   num_like_post     4225 non-null   int64 \n 3   num_comment_post  4225 non-null   int64 \n 4   num_share_post    4225 non-null   int64 \n 5   label             4225 non-null   int64 \ndtypes: int64(5), object(1)\nmemory usage: 198.2+ KB\n"
     ]
    }
   ],
   "source": [
    "data.info()"
   ]
  },
  {
   "cell_type": "code",
   "execution_count": 13,
   "metadata": {
    "tags": []
   },
   "outputs": [
    {
     "output_type": "execute_result",
     "data": {
      "text/plain": [
       "Int64Index([2186], dtype='int64')"
      ]
     },
     "metadata": {},
     "execution_count": 13
    }
   ],
   "source": [
    "nul_id = data[data.post_message.isnull()].index\n",
    "nul_id"
   ]
  },
  {
   "cell_type": "code",
   "execution_count": 14,
   "metadata": {},
   "outputs": [
    {
     "output_type": "execute_result",
     "data": {
      "text/plain": [
       "        id post_message  num_like_post  num_comment_post  num_share_post  \\\n",
       "2186  2248          NaN           9717                28              88   \n",
       "\n",
       "      label  \n",
       "2186      0  "
      ],
      "text/html": "<div>\n<style scoped>\n    .dataframe tbody tr th:only-of-type {\n        vertical-align: middle;\n    }\n\n    .dataframe tbody tr th {\n        vertical-align: top;\n    }\n\n    .dataframe thead th {\n        text-align: right;\n    }\n</style>\n<table border=\"1\" class=\"dataframe\">\n  <thead>\n    <tr style=\"text-align: right;\">\n      <th></th>\n      <th>id</th>\n      <th>post_message</th>\n      <th>num_like_post</th>\n      <th>num_comment_post</th>\n      <th>num_share_post</th>\n      <th>label</th>\n    </tr>\n  </thead>\n  <tbody>\n    <tr>\n      <th>2186</th>\n      <td>2248</td>\n      <td>NaN</td>\n      <td>9717</td>\n      <td>28</td>\n      <td>88</td>\n      <td>0</td>\n    </tr>\n  </tbody>\n</table>\n</div>"
     },
     "metadata": {},
     "execution_count": 14
    }
   ],
   "source": [
    "data.iloc[nul_id,:]"
   ]
  },
  {
   "cell_type": "code",
   "execution_count": 15,
   "metadata": {},
   "outputs": [
    {
     "output_type": "stream",
     "name": "stdout",
     "text": [
      "<class 'pandas.core.frame.DataFrame'>\nRangeIndex: 4224 entries, 0 to 4223\nData columns (total 6 columns):\n #   Column            Non-Null Count  Dtype \n---  ------            --------------  ----- \n 0   id                4224 non-null   int64 \n 1   post_message      4224 non-null   object\n 2   num_like_post     4224 non-null   int64 \n 3   num_comment_post  4224 non-null   int64 \n 4   num_share_post    4224 non-null   int64 \n 5   label             4224 non-null   int64 \ndtypes: int64(5), object(1)\nmemory usage: 198.1+ KB\n"
     ]
    }
   ],
   "source": [
    "data = data.drop(index=[2186], axis=0).reset_index(drop=True)\n",
    "data.info()"
   ]
  },
  {
   "cell_type": "code",
   "execution_count": 16,
   "metadata": {},
   "outputs": [],
   "source": [
    "cols = ['id','num_like_post', 'num_comment_post', 'num_share_post', 'label']\n",
    "\n",
    "# data[cols].to_csv('num_data_del.csv',index=False, encoding='utf-8')"
   ]
  },
  {
   "cell_type": "code",
   "execution_count": 17,
   "metadata": {},
   "outputs": [],
   "source": [
    "cols = ['id', 'post_message', 'label']\n",
    "\n",
    "# data[cols].to_csv('cat_data_del.csv', index=False, encoding='utf-8')"
   ]
  },
  {
   "cell_type": "code",
   "execution_count": 18,
   "metadata": {},
   "outputs": [],
   "source": [
    "# down samples for num_data\n",
    "num_data = pd.read_csv('num_data_del.csv', encoding='utf-8')\n",
    "\n",
    "index_0 = list(num_data[num_data.label == 0].index)\n",
    "index_1 = list(num_data[num_data.label == 1].index)\n",
    "\n",
    "ids = list(np.random.choice(index_0, size=800, replace=False))\n",
    "\n",
    "index = ids + index_1\n",
    "\n",
    "# num_data.iloc[index,:].reset_index(drop=True).to_csv('num_data_del_down.csv', encoding='utf-8', index=False)"
   ]
  },
  {
   "cell_type": "code",
   "execution_count": 19,
   "metadata": {},
   "outputs": [],
   "source": [
    "# down samples for cat_data\n",
    "cat_data = pd.read_csv('cat_data_del.csv', encoding='utf-8')\n",
    "\n",
    "index_0 = list(num_data[num_data.label == 0].index)\n",
    "index_1 = list(num_data[num_data.label == 1].index)\n",
    "\n",
    "ids = list(np.random.choice(index_0, size=800, replace=False))\n",
    "\n",
    "index = ids + index_1\n",
    "\n",
    "# cat_data.iloc[index,:].reset_index(drop=True).to_csv('cat_data_del_down.csv', encoding='utf-8', index=False)"
   ]
  },
  {
   "cell_type": "code",
   "execution_count": 20,
   "metadata": {},
   "outputs": [
    {
     "output_type": "execute_result",
     "data": {
      "text/plain": [
       "        id                                       post_message  label\n",
       "0        1  THĂNG CẤP BẬC HÀM ĐỐI VỚI 2 CÁN BỘ, CHIẾN SỸ H...      0\n",
       "1        3  TƯ VẤN MÙA THI: Cách nộp hồ sơ để trúng tuyển ...      0\n",
       "2        4  Cơ quan Cạnh tranh và Thị trường Anh quyết địn...      0\n",
       "3        5  Thêm 7 ca tại Quảng Nam liên quan đến hành khá...      0\n",
       "4        6  Trong giờ học Thể dụ‌c do thầy giáo Nguyễn Văn...      0\n",
       "...    ...                                                ...    ...\n",
       "4219  4368  BÀ MẸ VIỆT NAM ANH HÙNG 95 TUỔI MAY KHẨU TRANG...      0\n",
       "4220  4369  Nguồn cung khan kiếm nhưng nhu cầu cao tạo áp ...      0\n",
       "4221  4370  Lời cảnh tỉnh cho các thanh niên dân TỔ...tốc ...      1\n",
       "4222  4371  Đến bây giờ mới biết chỉ cần học lái xe hạng B...      1\n",
       "4223  4372  Tư lệnh ngành cấm bay với phi công Pakistan, r...      0\n",
       "\n",
       "[4224 rows x 3 columns]"
      ],
      "text/html": "<div>\n<style scoped>\n    .dataframe tbody tr th:only-of-type {\n        vertical-align: middle;\n    }\n\n    .dataframe tbody tr th {\n        vertical-align: top;\n    }\n\n    .dataframe thead th {\n        text-align: right;\n    }\n</style>\n<table border=\"1\" class=\"dataframe\">\n  <thead>\n    <tr style=\"text-align: right;\">\n      <th></th>\n      <th>id</th>\n      <th>post_message</th>\n      <th>label</th>\n    </tr>\n  </thead>\n  <tbody>\n    <tr>\n      <th>0</th>\n      <td>1</td>\n      <td>THĂNG CẤP BẬC HÀM ĐỐI VỚI 2 CÁN BỘ, CHIẾN SỸ H...</td>\n      <td>0</td>\n    </tr>\n    <tr>\n      <th>1</th>\n      <td>3</td>\n      <td>TƯ VẤN MÙA THI: Cách nộp hồ sơ để trúng tuyển ...</td>\n      <td>0</td>\n    </tr>\n    <tr>\n      <th>2</th>\n      <td>4</td>\n      <td>Cơ quan Cạnh tranh và Thị trường Anh quyết địn...</td>\n      <td>0</td>\n    </tr>\n    <tr>\n      <th>3</th>\n      <td>5</td>\n      <td>Thêm 7 ca tại Quảng Nam liên quan đến hành khá...</td>\n      <td>0</td>\n    </tr>\n    <tr>\n      <th>4</th>\n      <td>6</td>\n      <td>Trong giờ học Thể dụ‌c do thầy giáo Nguyễn Văn...</td>\n      <td>0</td>\n    </tr>\n    <tr>\n      <th>...</th>\n      <td>...</td>\n      <td>...</td>\n      <td>...</td>\n    </tr>\n    <tr>\n      <th>4219</th>\n      <td>4368</td>\n      <td>BÀ MẸ VIỆT NAM ANH HÙNG 95 TUỔI MAY KHẨU TRANG...</td>\n      <td>0</td>\n    </tr>\n    <tr>\n      <th>4220</th>\n      <td>4369</td>\n      <td>Nguồn cung khan kiếm nhưng nhu cầu cao tạo áp ...</td>\n      <td>0</td>\n    </tr>\n    <tr>\n      <th>4221</th>\n      <td>4370</td>\n      <td>Lời cảnh tỉnh cho các thanh niên dân TỔ...tốc ...</td>\n      <td>1</td>\n    </tr>\n    <tr>\n      <th>4222</th>\n      <td>4371</td>\n      <td>Đến bây giờ mới biết chỉ cần học lái xe hạng B...</td>\n      <td>1</td>\n    </tr>\n    <tr>\n      <th>4223</th>\n      <td>4372</td>\n      <td>Tư lệnh ngành cấm bay với phi công Pakistan, r...</td>\n      <td>0</td>\n    </tr>\n  </tbody>\n</table>\n<p>4224 rows × 3 columns</p>\n</div>"
     },
     "metadata": {},
     "execution_count": 20
    }
   ],
   "source": [
    "cat_data = pd.read_csv('cat_data_del.csv', encoding='utf8')\n",
    "\n",
    "cat_data"
   ]
  },
  {
   "cell_type": "code",
   "execution_count": 21,
   "metadata": {
    "tags": []
   },
   "outputs": [
    {
     "output_type": "execute_result",
     "data": {
      "text/plain": [
       "        id                                       post_message  label  \\\n",
       "0        1  THĂNG CẤP BẬC HÀM ĐỐI VỚI 2 CÁN BỘ, CHIẾN SỸ H...      0   \n",
       "1        3  TƯ VẤN MÙA THI: Cách nộp hồ sơ để trúng tuyển ...      0   \n",
       "2        4  Cơ quan Cạnh tranh và Thị trường Anh quyết địn...      0   \n",
       "3        5  Thêm 7 ca tại Quảng Nam liên quan đến hành khá...      0   \n",
       "4        6  Trong giờ học Thể dụ‌c do thầy giáo Nguyễn Văn...      0   \n",
       "...    ...                                                ...    ...   \n",
       "4219  4368  BÀ MẸ VIỆT NAM ANH HÙNG 95 TUỔI MAY KHẨU TRANG...      0   \n",
       "4220  4369  Nguồn cung khan kiếm nhưng nhu cầu cao tạo áp ...      0   \n",
       "4221  4370  Lời cảnh tỉnh cho các thanh niên dân TỔ...tốc ...      1   \n",
       "4222  4371  Đến bây giờ mới biết chỉ cần học lái xe hạng B...      1   \n",
       "4223  4372  Tư lệnh ngành cấm bay với phi công Pakistan, r...      0   \n",
       "\n",
       "                                 post_message_preproced  \n",
       "0     thăng cấp_bậc hàm cán_bộ chiến_sỹ hy_sinh đà_n...  \n",
       "1     tư_vấn mùa thi nộp hồ_sơ trúng_tuyển chương_tr...  \n",
       "2     cơ_quan cạnh_tranh thị_trường quyết_định điều_...  \n",
       "3     ca quảng_nam hành_khách chuyến bay bệnh_nhân n...  \n",
       "4     học thể dụ c thầy_giáo nguyễn_văn quân phụ trá...  \n",
       "...                                                 ...  \n",
       "4219  mẹ việt_nam anh_hùng may khẩu_trang chống dịch...  \n",
       "4220  cung khan kiếm nhu_cầu áp_lực tăng_giá dự_án s...  \n",
       "4221  cảnh_tỉnh thanh_niên dân tổtốc độ bàn_thờ emoj...  \n",
       "4222  học lái_xe hạng chữa bá bệnh lãnh_đạo_tế xứ th...  \n",
       "4223  tư_lệnh ngành cấm bay phi_công pakistan rà_soá...  \n",
       "\n",
       "[4224 rows x 4 columns]"
      ],
      "text/html": "<div>\n<style scoped>\n    .dataframe tbody tr th:only-of-type {\n        vertical-align: middle;\n    }\n\n    .dataframe tbody tr th {\n        vertical-align: top;\n    }\n\n    .dataframe thead th {\n        text-align: right;\n    }\n</style>\n<table border=\"1\" class=\"dataframe\">\n  <thead>\n    <tr style=\"text-align: right;\">\n      <th></th>\n      <th>id</th>\n      <th>post_message</th>\n      <th>label</th>\n      <th>post_message_preproced</th>\n    </tr>\n  </thead>\n  <tbody>\n    <tr>\n      <th>0</th>\n      <td>1</td>\n      <td>THĂNG CẤP BẬC HÀM ĐỐI VỚI 2 CÁN BỘ, CHIẾN SỸ H...</td>\n      <td>0</td>\n      <td>thăng cấp_bậc hàm cán_bộ chiến_sỹ hy_sinh đà_n...</td>\n    </tr>\n    <tr>\n      <th>1</th>\n      <td>3</td>\n      <td>TƯ VẤN MÙA THI: Cách nộp hồ sơ để trúng tuyển ...</td>\n      <td>0</td>\n      <td>tư_vấn mùa thi nộp hồ_sơ trúng_tuyển chương_tr...</td>\n    </tr>\n    <tr>\n      <th>2</th>\n      <td>4</td>\n      <td>Cơ quan Cạnh tranh và Thị trường Anh quyết địn...</td>\n      <td>0</td>\n      <td>cơ_quan cạnh_tranh thị_trường quyết_định điều_...</td>\n    </tr>\n    <tr>\n      <th>3</th>\n      <td>5</td>\n      <td>Thêm 7 ca tại Quảng Nam liên quan đến hành khá...</td>\n      <td>0</td>\n      <td>ca quảng_nam hành_khách chuyến bay bệnh_nhân n...</td>\n    </tr>\n    <tr>\n      <th>4</th>\n      <td>6</td>\n      <td>Trong giờ học Thể dụ‌c do thầy giáo Nguyễn Văn...</td>\n      <td>0</td>\n      <td>học thể dụ c thầy_giáo nguyễn_văn quân phụ trá...</td>\n    </tr>\n    <tr>\n      <th>...</th>\n      <td>...</td>\n      <td>...</td>\n      <td>...</td>\n      <td>...</td>\n    </tr>\n    <tr>\n      <th>4219</th>\n      <td>4368</td>\n      <td>BÀ MẸ VIỆT NAM ANH HÙNG 95 TUỔI MAY KHẨU TRANG...</td>\n      <td>0</td>\n      <td>mẹ việt_nam anh_hùng may khẩu_trang chống dịch...</td>\n    </tr>\n    <tr>\n      <th>4220</th>\n      <td>4369</td>\n      <td>Nguồn cung khan kiếm nhưng nhu cầu cao tạo áp ...</td>\n      <td>0</td>\n      <td>cung khan kiếm nhu_cầu áp_lực tăng_giá dự_án s...</td>\n    </tr>\n    <tr>\n      <th>4221</th>\n      <td>4370</td>\n      <td>Lời cảnh tỉnh cho các thanh niên dân TỔ...tốc ...</td>\n      <td>1</td>\n      <td>cảnh_tỉnh thanh_niên dân tổtốc độ bàn_thờ emoj...</td>\n    </tr>\n    <tr>\n      <th>4222</th>\n      <td>4371</td>\n      <td>Đến bây giờ mới biết chỉ cần học lái xe hạng B...</td>\n      <td>1</td>\n      <td>học lái_xe hạng chữa bá bệnh lãnh_đạo_tế xứ th...</td>\n    </tr>\n    <tr>\n      <th>4223</th>\n      <td>4372</td>\n      <td>Tư lệnh ngành cấm bay với phi công Pakistan, r...</td>\n      <td>0</td>\n      <td>tư_lệnh ngành cấm bay phi_công pakistan rà_soá...</td>\n    </tr>\n  </tbody>\n</table>\n<p>4224 rows × 4 columns</p>\n</div>"
     },
     "metadata": {},
     "execution_count": 21
    }
   ],
   "source": [
    "from vncorenlp import VnCoreNLP\n",
    "\n",
    "stopwords_file = \"vietnamese-stopwords/vietnamese-stopwords.txt\"\n",
    "\n",
    "stopwords = get_stop_words(stopwords_file)\n",
    "\n",
    "annotator = VnCoreNLP(\"VnCoreNLP/VnCoreNLP-1.1.1.jar\", annotators=\"wseg\", max_heap_size='-Xmx500m')\n",
    "\n",
    "cat_data['post_message_preproced'] = cat_data.post_message.apply(text_preprocessing, stopwords= stopwords, annotator= annotator)\n",
    "\n",
    "cat_data"
   ]
  },
  {
   "cell_type": "code",
   "execution_count": 22,
   "metadata": {},
   "outputs": [],
   "source": [
    "cat_data.to_csv('cat_data_del_pre.csv', encoding='utf8', index=False)"
   ]
  },
  {
   "cell_type": "code",
   "execution_count": 23,
   "metadata": {},
   "outputs": [
    {
     "output_type": "execute_result",
     "data": {
      "text/plain": [
       "        id  num_like_post  num_comment_post  num_share_post  label\n",
       "0        1          19477               378             173      0\n",
       "1        3             48                 5              19      0\n",
       "2        4              3                 0               0      0\n",
       "3        5            775                 0              54      0\n",
       "4        6              2                 1               0      0\n",
       "...    ...            ...               ...             ...    ...\n",
       "4219  4368           5800              1300           12000      0\n",
       "4220  4369             21                 1               0      0\n",
       "4221  4370              3                 1               0      1\n",
       "4222  4371            144                38              87      1\n",
       "4223  4372             24                 9               0      0\n",
       "\n",
       "[4224 rows x 5 columns]"
      ],
      "text/html": "<div>\n<style scoped>\n    .dataframe tbody tr th:only-of-type {\n        vertical-align: middle;\n    }\n\n    .dataframe tbody tr th {\n        vertical-align: top;\n    }\n\n    .dataframe thead th {\n        text-align: right;\n    }\n</style>\n<table border=\"1\" class=\"dataframe\">\n  <thead>\n    <tr style=\"text-align: right;\">\n      <th></th>\n      <th>id</th>\n      <th>num_like_post</th>\n      <th>num_comment_post</th>\n      <th>num_share_post</th>\n      <th>label</th>\n    </tr>\n  </thead>\n  <tbody>\n    <tr>\n      <th>0</th>\n      <td>1</td>\n      <td>19477</td>\n      <td>378</td>\n      <td>173</td>\n      <td>0</td>\n    </tr>\n    <tr>\n      <th>1</th>\n      <td>3</td>\n      <td>48</td>\n      <td>5</td>\n      <td>19</td>\n      <td>0</td>\n    </tr>\n    <tr>\n      <th>2</th>\n      <td>4</td>\n      <td>3</td>\n      <td>0</td>\n      <td>0</td>\n      <td>0</td>\n    </tr>\n    <tr>\n      <th>3</th>\n      <td>5</td>\n      <td>775</td>\n      <td>0</td>\n      <td>54</td>\n      <td>0</td>\n    </tr>\n    <tr>\n      <th>4</th>\n      <td>6</td>\n      <td>2</td>\n      <td>1</td>\n      <td>0</td>\n      <td>0</td>\n    </tr>\n    <tr>\n      <th>...</th>\n      <td>...</td>\n      <td>...</td>\n      <td>...</td>\n      <td>...</td>\n      <td>...</td>\n    </tr>\n    <tr>\n      <th>4219</th>\n      <td>4368</td>\n      <td>5800</td>\n      <td>1300</td>\n      <td>12000</td>\n      <td>0</td>\n    </tr>\n    <tr>\n      <th>4220</th>\n      <td>4369</td>\n      <td>21</td>\n      <td>1</td>\n      <td>0</td>\n      <td>0</td>\n    </tr>\n    <tr>\n      <th>4221</th>\n      <td>4370</td>\n      <td>3</td>\n      <td>1</td>\n      <td>0</td>\n      <td>1</td>\n    </tr>\n    <tr>\n      <th>4222</th>\n      <td>4371</td>\n      <td>144</td>\n      <td>38</td>\n      <td>87</td>\n      <td>1</td>\n    </tr>\n    <tr>\n      <th>4223</th>\n      <td>4372</td>\n      <td>24</td>\n      <td>9</td>\n      <td>0</td>\n      <td>0</td>\n    </tr>\n  </tbody>\n</table>\n<p>4224 rows × 5 columns</p>\n</div>"
     },
     "metadata": {},
     "execution_count": 23
    }
   ],
   "source": [
    "num_del = pd.read_csv('num_data_del.csv', encoding='utf8')\n",
    "\n",
    "num_del"
   ]
  },
  {
   "cell_type": "code",
   "execution_count": 24,
   "metadata": {},
   "outputs": [
    {
     "output_type": "stream",
     "name": "stdout",
     "text": [
      "<class 'pandas.core.frame.DataFrame'>\nRangeIndex: 4224 entries, 0 to 4223\nData columns (total 5 columns):\n #   Column            Non-Null Count  Dtype\n---  ------            --------------  -----\n 0   id                4224 non-null   int64\n 1   num_like_post     4224 non-null   int64\n 2   num_comment_post  4224 non-null   int64\n 3   num_share_post    4224 non-null   int64\n 4   label             4224 non-null   int64\ndtypes: int64(5)\nmemory usage: 165.1 KB\n"
     ]
    }
   ],
   "source": [
    "num_del.info()"
   ]
  },
  {
   "cell_type": "code",
   "execution_count": 25,
   "metadata": {},
   "outputs": [
    {
     "output_type": "execute_result",
     "data": {
      "text/plain": [
       "       id  num_like_post  num_comment_post  num_share_post  label\n",
       "0    2225            160                13              60      1\n",
       "1    4093              2                 3               0      1\n",
       "2    4068              7                 1               0      1\n",
       "3    4067            143                 4              21      1\n",
       "4    2535              4                 0               0      1\n",
       "..    ...            ...               ...             ...    ...\n",
       "840  2806              1                 0               0      0\n",
       "841  2619            151                 1               4      0\n",
       "842   928             35                 2               1      0\n",
       "843  1090            278                44              34      0\n",
       "844  2177           5657                12             325      0\n",
       "\n",
       "[845 rows x 5 columns]"
      ],
      "text/html": "<div>\n<style scoped>\n    .dataframe tbody tr th:only-of-type {\n        vertical-align: middle;\n    }\n\n    .dataframe tbody tr th {\n        vertical-align: top;\n    }\n\n    .dataframe thead th {\n        text-align: right;\n    }\n</style>\n<table border=\"1\" class=\"dataframe\">\n  <thead>\n    <tr style=\"text-align: right;\">\n      <th></th>\n      <th>id</th>\n      <th>num_like_post</th>\n      <th>num_comment_post</th>\n      <th>num_share_post</th>\n      <th>label</th>\n    </tr>\n  </thead>\n  <tbody>\n    <tr>\n      <th>0</th>\n      <td>2225</td>\n      <td>160</td>\n      <td>13</td>\n      <td>60</td>\n      <td>1</td>\n    </tr>\n    <tr>\n      <th>1</th>\n      <td>4093</td>\n      <td>2</td>\n      <td>3</td>\n      <td>0</td>\n      <td>1</td>\n    </tr>\n    <tr>\n      <th>2</th>\n      <td>4068</td>\n      <td>7</td>\n      <td>1</td>\n      <td>0</td>\n      <td>1</td>\n    </tr>\n    <tr>\n      <th>3</th>\n      <td>4067</td>\n      <td>143</td>\n      <td>4</td>\n      <td>21</td>\n      <td>1</td>\n    </tr>\n    <tr>\n      <th>4</th>\n      <td>2535</td>\n      <td>4</td>\n      <td>0</td>\n      <td>0</td>\n      <td>1</td>\n    </tr>\n    <tr>\n      <th>...</th>\n      <td>...</td>\n      <td>...</td>\n      <td>...</td>\n      <td>...</td>\n      <td>...</td>\n    </tr>\n    <tr>\n      <th>840</th>\n      <td>2806</td>\n      <td>1</td>\n      <td>0</td>\n      <td>0</td>\n      <td>0</td>\n    </tr>\n    <tr>\n      <th>841</th>\n      <td>2619</td>\n      <td>151</td>\n      <td>1</td>\n      <td>4</td>\n      <td>0</td>\n    </tr>\n    <tr>\n      <th>842</th>\n      <td>928</td>\n      <td>35</td>\n      <td>2</td>\n      <td>1</td>\n      <td>0</td>\n    </tr>\n    <tr>\n      <th>843</th>\n      <td>1090</td>\n      <td>278</td>\n      <td>44</td>\n      <td>34</td>\n      <td>0</td>\n    </tr>\n    <tr>\n      <th>844</th>\n      <td>2177</td>\n      <td>5657</td>\n      <td>12</td>\n      <td>325</td>\n      <td>0</td>\n    </tr>\n  </tbody>\n</table>\n<p>845 rows × 5 columns</p>\n</div>"
     },
     "metadata": {},
     "execution_count": 25
    }
   ],
   "source": [
    "num_del_0 = num_del[num_del.label == 0]\n",
    "num_del_1 = num_del[num_del.label == 1]\n",
    "\n",
    "num_del_0_test = num_del_0.sample(frac=0.2, replace=False)\n",
    "num_del_1_test = num_del_1.sample(frac=0.2, replace=False)\n",
    "\n",
    "num_test = pd.concat([num_del_1_test, num_del_0_test], ignore_index=True, axis=0)\n",
    "\n",
    "num_test"
   ]
  },
  {
   "cell_type": "code",
   "execution_count": 26,
   "metadata": {},
   "outputs": [],
   "source": [
    "# num_test.to_csv('num_test.csv', encoding='utf8', index=False)"
   ]
  },
  {
   "cell_type": "code",
   "execution_count": 28,
   "metadata": {},
   "outputs": [
    {
     "output_type": "execute_result",
     "data": {
      "text/plain": [
       "                                           post_message  label  \\\n",
       "id                                                               \n",
       "2225   Dữ liệu mở của <URL> cho thấy mức độ đioxit l...      1   \n",
       "4093  Tại sao cấm và cấm bằng cách nào?\\nBộ Lao động...      1   \n",
       "4068  Tạp chí Tài chính công khai cổ vũ, PR cho hoạt...      1   \n",
       "4067  Chợ đầu mối Bình Điền đóng cửa trong mùa dịch ...      1   \n",
       "2535  Thêm 45.000 ca mới 1 ngày, Mỹ vẫn căng nhể. Nh...      1   \n",
       "...                                                 ...    ...   \n",
       "2806  Tiết kiệm được hơn 1 tỷ đồng, tôi muốn mua mản...      0   \n",
       "2619  HDBank tiếp tục dành thêm 10.000 tỷ đồng hỗ tr...      0   \n",
       "928   Ngày xưa \"tam đảo\" 3 Tổng giám đốc công ty thà...      0   \n",
       "1090  GƯƠNG MẶT SHOWBIZ | ĐẠT G, DU UYÊN TRỞ LẠI VỚI...      0   \n",
       "2177  Dịch Covid-19 khiến lượng khách mua sắm giảm m...      0   \n",
       "\n",
       "                                 post_message_preproced  \n",
       "id                                                       \n",
       "2225  dữ_liệu url mức_độ đioxit lưu_huỳnh báo_động t...  \n",
       "4093  cấm cấm lao_động thương_binh xã_hội cục trưởng...  \n",
       "4068  tạp_chí tài_chính công_khai cổ_vũ pr hoạt_động...  \n",
       "4067  chợ đầu_mối bình điền đóng_cửa mùa dịch covid ...  \n",
       "2535  ca mỹ căng nhể bang california texas florida g...  \n",
       "...                                                 ...  \n",
       "2806  tiết_kiệm tỷ đồng mua mảnh đất vay_mượn xây vợ...  \n",
       "2619  hdbank tỷ đồng khách_hàng doanh_nghiệp siêu hộ...  \n",
       "928   tam_đảo tổng_giám_đốc công_ty thành_viên fpt m...  \n",
       "1090  gương_mặt showbiz du uyên trở_lại gói xôi vội ...  \n",
       "2177  dịch covid mua_sắm chi_phí cố_định hẹn tạm ngh...  \n",
       "\n",
       "[845 rows x 3 columns]"
      ],
      "text/html": "<div>\n<style scoped>\n    .dataframe tbody tr th:only-of-type {\n        vertical-align: middle;\n    }\n\n    .dataframe tbody tr th {\n        vertical-align: top;\n    }\n\n    .dataframe thead th {\n        text-align: right;\n    }\n</style>\n<table border=\"1\" class=\"dataframe\">\n  <thead>\n    <tr style=\"text-align: right;\">\n      <th></th>\n      <th>post_message</th>\n      <th>label</th>\n      <th>post_message_preproced</th>\n    </tr>\n    <tr>\n      <th>id</th>\n      <th></th>\n      <th></th>\n      <th></th>\n    </tr>\n  </thead>\n  <tbody>\n    <tr>\n      <th>2225</th>\n      <td>Dữ liệu mở của &lt;URL&gt; cho thấy mức độ đioxit l...</td>\n      <td>1</td>\n      <td>dữ_liệu url mức_độ đioxit lưu_huỳnh báo_động t...</td>\n    </tr>\n    <tr>\n      <th>4093</th>\n      <td>Tại sao cấm và cấm bằng cách nào?\\nBộ Lao động...</td>\n      <td>1</td>\n      <td>cấm cấm lao_động thương_binh xã_hội cục trưởng...</td>\n    </tr>\n    <tr>\n      <th>4068</th>\n      <td>Tạp chí Tài chính công khai cổ vũ, PR cho hoạt...</td>\n      <td>1</td>\n      <td>tạp_chí tài_chính công_khai cổ_vũ pr hoạt_động...</td>\n    </tr>\n    <tr>\n      <th>4067</th>\n      <td>Chợ đầu mối Bình Điền đóng cửa trong mùa dịch ...</td>\n      <td>1</td>\n      <td>chợ đầu_mối bình điền đóng_cửa mùa dịch covid ...</td>\n    </tr>\n    <tr>\n      <th>2535</th>\n      <td>Thêm 45.000 ca mới 1 ngày, Mỹ vẫn căng nhể. Nh...</td>\n      <td>1</td>\n      <td>ca mỹ căng nhể bang california texas florida g...</td>\n    </tr>\n    <tr>\n      <th>...</th>\n      <td>...</td>\n      <td>...</td>\n      <td>...</td>\n    </tr>\n    <tr>\n      <th>2806</th>\n      <td>Tiết kiệm được hơn 1 tỷ đồng, tôi muốn mua mản...</td>\n      <td>0</td>\n      <td>tiết_kiệm tỷ đồng mua mảnh đất vay_mượn xây vợ...</td>\n    </tr>\n    <tr>\n      <th>2619</th>\n      <td>HDBank tiếp tục dành thêm 10.000 tỷ đồng hỗ tr...</td>\n      <td>0</td>\n      <td>hdbank tỷ đồng khách_hàng doanh_nghiệp siêu hộ...</td>\n    </tr>\n    <tr>\n      <th>928</th>\n      <td>Ngày xưa \"tam đảo\" 3 Tổng giám đốc công ty thà...</td>\n      <td>0</td>\n      <td>tam_đảo tổng_giám_đốc công_ty thành_viên fpt m...</td>\n    </tr>\n    <tr>\n      <th>1090</th>\n      <td>GƯƠNG MẶT SHOWBIZ | ĐẠT G, DU UYÊN TRỞ LẠI VỚI...</td>\n      <td>0</td>\n      <td>gương_mặt showbiz du uyên trở_lại gói xôi vội ...</td>\n    </tr>\n    <tr>\n      <th>2177</th>\n      <td>Dịch Covid-19 khiến lượng khách mua sắm giảm m...</td>\n      <td>0</td>\n      <td>dịch covid mua_sắm chi_phí cố_định hẹn tạm ngh...</td>\n    </tr>\n  </tbody>\n</table>\n<p>845 rows × 3 columns</p>\n</div>"
     },
     "metadata": {},
     "execution_count": 28
    }
   ],
   "source": [
    "cat_del = pd.read_csv('cat_data_del_pre.csv', encoding='utf8')\n",
    "cat_test = cat_del.set_index('id').loc[num_test.id.values]\n",
    "\n",
    "cat_test"
   ]
  },
  {
   "cell_type": "code",
   "execution_count": 29,
   "metadata": {},
   "outputs": [
    {
     "output_type": "execute_result",
     "data": {
      "text/plain": [
       "       id                                       post_message  label  \\\n",
       "0    2225   Dữ liệu mở của <URL> cho thấy mức độ đioxit l...      1   \n",
       "1    4093  Tại sao cấm và cấm bằng cách nào?\\nBộ Lao động...      1   \n",
       "2    4068  Tạp chí Tài chính công khai cổ vũ, PR cho hoạt...      1   \n",
       "3    4067  Chợ đầu mối Bình Điền đóng cửa trong mùa dịch ...      1   \n",
       "4    2535  Thêm 45.000 ca mới 1 ngày, Mỹ vẫn căng nhể. Nh...      1   \n",
       "..    ...                                                ...    ...   \n",
       "840  2806  Tiết kiệm được hơn 1 tỷ đồng, tôi muốn mua mản...      0   \n",
       "841  2619  HDBank tiếp tục dành thêm 10.000 tỷ đồng hỗ tr...      0   \n",
       "842   928  Ngày xưa \"tam đảo\" 3 Tổng giám đốc công ty thà...      0   \n",
       "843  1090  GƯƠNG MẶT SHOWBIZ | ĐẠT G, DU UYÊN TRỞ LẠI VỚI...      0   \n",
       "844  2177  Dịch Covid-19 khiến lượng khách mua sắm giảm m...      0   \n",
       "\n",
       "                                post_message_preproced  \n",
       "0    dữ_liệu url mức_độ đioxit lưu_huỳnh báo_động t...  \n",
       "1    cấm cấm lao_động thương_binh xã_hội cục trưởng...  \n",
       "2    tạp_chí tài_chính công_khai cổ_vũ pr hoạt_động...  \n",
       "3    chợ đầu_mối bình điền đóng_cửa mùa dịch covid ...  \n",
       "4    ca mỹ căng nhể bang california texas florida g...  \n",
       "..                                                 ...  \n",
       "840  tiết_kiệm tỷ đồng mua mảnh đất vay_mượn xây vợ...  \n",
       "841  hdbank tỷ đồng khách_hàng doanh_nghiệp siêu hộ...  \n",
       "842  tam_đảo tổng_giám_đốc công_ty thành_viên fpt m...  \n",
       "843  gương_mặt showbiz du uyên trở_lại gói xôi vội ...  \n",
       "844  dịch covid mua_sắm chi_phí cố_định hẹn tạm ngh...  \n",
       "\n",
       "[845 rows x 4 columns]"
      ],
      "text/html": "<div>\n<style scoped>\n    .dataframe tbody tr th:only-of-type {\n        vertical-align: middle;\n    }\n\n    .dataframe tbody tr th {\n        vertical-align: top;\n    }\n\n    .dataframe thead th {\n        text-align: right;\n    }\n</style>\n<table border=\"1\" class=\"dataframe\">\n  <thead>\n    <tr style=\"text-align: right;\">\n      <th></th>\n      <th>id</th>\n      <th>post_message</th>\n      <th>label</th>\n      <th>post_message_preproced</th>\n    </tr>\n  </thead>\n  <tbody>\n    <tr>\n      <th>0</th>\n      <td>2225</td>\n      <td>Dữ liệu mở của &lt;URL&gt; cho thấy mức độ đioxit l...</td>\n      <td>1</td>\n      <td>dữ_liệu url mức_độ đioxit lưu_huỳnh báo_động t...</td>\n    </tr>\n    <tr>\n      <th>1</th>\n      <td>4093</td>\n      <td>Tại sao cấm và cấm bằng cách nào?\\nBộ Lao động...</td>\n      <td>1</td>\n      <td>cấm cấm lao_động thương_binh xã_hội cục trưởng...</td>\n    </tr>\n    <tr>\n      <th>2</th>\n      <td>4068</td>\n      <td>Tạp chí Tài chính công khai cổ vũ, PR cho hoạt...</td>\n      <td>1</td>\n      <td>tạp_chí tài_chính công_khai cổ_vũ pr hoạt_động...</td>\n    </tr>\n    <tr>\n      <th>3</th>\n      <td>4067</td>\n      <td>Chợ đầu mối Bình Điền đóng cửa trong mùa dịch ...</td>\n      <td>1</td>\n      <td>chợ đầu_mối bình điền đóng_cửa mùa dịch covid ...</td>\n    </tr>\n    <tr>\n      <th>4</th>\n      <td>2535</td>\n      <td>Thêm 45.000 ca mới 1 ngày, Mỹ vẫn căng nhể. Nh...</td>\n      <td>1</td>\n      <td>ca mỹ căng nhể bang california texas florida g...</td>\n    </tr>\n    <tr>\n      <th>...</th>\n      <td>...</td>\n      <td>...</td>\n      <td>...</td>\n      <td>...</td>\n    </tr>\n    <tr>\n      <th>840</th>\n      <td>2806</td>\n      <td>Tiết kiệm được hơn 1 tỷ đồng, tôi muốn mua mản...</td>\n      <td>0</td>\n      <td>tiết_kiệm tỷ đồng mua mảnh đất vay_mượn xây vợ...</td>\n    </tr>\n    <tr>\n      <th>841</th>\n      <td>2619</td>\n      <td>HDBank tiếp tục dành thêm 10.000 tỷ đồng hỗ tr...</td>\n      <td>0</td>\n      <td>hdbank tỷ đồng khách_hàng doanh_nghiệp siêu hộ...</td>\n    </tr>\n    <tr>\n      <th>842</th>\n      <td>928</td>\n      <td>Ngày xưa \"tam đảo\" 3 Tổng giám đốc công ty thà...</td>\n      <td>0</td>\n      <td>tam_đảo tổng_giám_đốc công_ty thành_viên fpt m...</td>\n    </tr>\n    <tr>\n      <th>843</th>\n      <td>1090</td>\n      <td>GƯƠNG MẶT SHOWBIZ | ĐẠT G, DU UYÊN TRỞ LẠI VỚI...</td>\n      <td>0</td>\n      <td>gương_mặt showbiz du uyên trở_lại gói xôi vội ...</td>\n    </tr>\n    <tr>\n      <th>844</th>\n      <td>2177</td>\n      <td>Dịch Covid-19 khiến lượng khách mua sắm giảm m...</td>\n      <td>0</td>\n      <td>dịch covid mua_sắm chi_phí cố_định hẹn tạm ngh...</td>\n    </tr>\n  </tbody>\n</table>\n<p>845 rows × 4 columns</p>\n</div>"
     },
     "metadata": {},
     "execution_count": 29
    }
   ],
   "source": [
    "cat_test = cat_test.reset_index()\n",
    "\n",
    "cat_test"
   ]
  },
  {
   "cell_type": "code",
   "execution_count": 30,
   "metadata": {},
   "outputs": [],
   "source": [
    "cat_test.to_csv('cat_test.csv', encoding='utf8', index=False)"
   ]
  },
  {
   "cell_type": "code",
   "execution_count": null,
   "metadata": {},
   "outputs": [],
   "source": []
  }
 ]
}