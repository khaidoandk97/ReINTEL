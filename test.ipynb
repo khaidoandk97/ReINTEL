{
 "metadata": {
  "language_info": {
   "codemirror_mode": {
    "name": "ipython",
    "version": 3
   },
   "file_extension": ".py",
   "mimetype": "text/x-python",
   "name": "python",
   "nbconvert_exporter": "python",
   "pygments_lexer": "ipython3",
   "version": "3.8.5-final"
  },
  "orig_nbformat": 2,
  "kernelspec": {
   "name": "python3",
   "display_name": "Python 3",
   "language": "python"
  }
 },
 "nbformat": 4,
 "nbformat_minor": 2,
 "cells": [
  {
   "cell_type": "code",
   "execution_count": 1,
   "metadata": {},
   "outputs": [],
   "source": [
    "import pandas as pd\n",
    "import numpy as np\n",
    "from utils import *"
   ]
  },
  {
   "cell_type": "code",
   "execution_count": 2,
   "metadata": {},
   "outputs": [
    {
     "output_type": "execute_result",
     "data": {
      "text/plain": [
       "        id  num_like_post  num_comment_post  num_share_post  label\n",
       "0        1          19477               378             173      0\n",
       "1        3             48                 5              19      0\n",
       "2        4              3                 0               0      0\n",
       "3        5            775                 0              54      0\n",
       "4        6              2                 1               0      0\n",
       "...    ...            ...               ...             ...    ...\n",
       "4219  4368           5800              1300           12000      0\n",
       "4220  4369             21                 1               0      0\n",
       "4221  4370              3                 1               0      1\n",
       "4222  4371            144                38              87      1\n",
       "4223  4372             24                 9               0      0\n",
       "\n",
       "[4224 rows x 5 columns]"
      ],
      "text/html": "<div>\n<style scoped>\n    .dataframe tbody tr th:only-of-type {\n        vertical-align: middle;\n    }\n\n    .dataframe tbody tr th {\n        vertical-align: top;\n    }\n\n    .dataframe thead th {\n        text-align: right;\n    }\n</style>\n<table border=\"1\" class=\"dataframe\">\n  <thead>\n    <tr style=\"text-align: right;\">\n      <th></th>\n      <th>id</th>\n      <th>num_like_post</th>\n      <th>num_comment_post</th>\n      <th>num_share_post</th>\n      <th>label</th>\n    </tr>\n  </thead>\n  <tbody>\n    <tr>\n      <th>0</th>\n      <td>1</td>\n      <td>19477</td>\n      <td>378</td>\n      <td>173</td>\n      <td>0</td>\n    </tr>\n    <tr>\n      <th>1</th>\n      <td>3</td>\n      <td>48</td>\n      <td>5</td>\n      <td>19</td>\n      <td>0</td>\n    </tr>\n    <tr>\n      <th>2</th>\n      <td>4</td>\n      <td>3</td>\n      <td>0</td>\n      <td>0</td>\n      <td>0</td>\n    </tr>\n    <tr>\n      <th>3</th>\n      <td>5</td>\n      <td>775</td>\n      <td>0</td>\n      <td>54</td>\n      <td>0</td>\n    </tr>\n    <tr>\n      <th>4</th>\n      <td>6</td>\n      <td>2</td>\n      <td>1</td>\n      <td>0</td>\n      <td>0</td>\n    </tr>\n    <tr>\n      <th>...</th>\n      <td>...</td>\n      <td>...</td>\n      <td>...</td>\n      <td>...</td>\n      <td>...</td>\n    </tr>\n    <tr>\n      <th>4219</th>\n      <td>4368</td>\n      <td>5800</td>\n      <td>1300</td>\n      <td>12000</td>\n      <td>0</td>\n    </tr>\n    <tr>\n      <th>4220</th>\n      <td>4369</td>\n      <td>21</td>\n      <td>1</td>\n      <td>0</td>\n      <td>0</td>\n    </tr>\n    <tr>\n      <th>4221</th>\n      <td>4370</td>\n      <td>3</td>\n      <td>1</td>\n      <td>0</td>\n      <td>1</td>\n    </tr>\n    <tr>\n      <th>4222</th>\n      <td>4371</td>\n      <td>144</td>\n      <td>38</td>\n      <td>87</td>\n      <td>1</td>\n    </tr>\n    <tr>\n      <th>4223</th>\n      <td>4372</td>\n      <td>24</td>\n      <td>9</td>\n      <td>0</td>\n      <td>0</td>\n    </tr>\n  </tbody>\n</table>\n<p>4224 rows × 5 columns</p>\n</div>"
     },
     "metadata": {},
     "execution_count": 2
    }
   ],
   "source": [
    "data = pd.read_csv('num_data_del.csv')\n",
    "data"
   ]
  },
  {
   "cell_type": "code",
   "execution_count": 3,
   "metadata": {},
   "outputs": [
    {
     "output_type": "execute_result",
     "data": {
      "text/plain": [
       "<pandas.io.formats.style.Styler at 0x2b96a9b3520>"
      ],
      "text/html": "<style  type=\"text/css\" >\n#T_4cb6807f_498f_11eb_96ce_3c58c218414brow0_col0,#T_4cb6807f_498f_11eb_96ce_3c58c218414brow1_col1,#T_4cb6807f_498f_11eb_96ce_3c58c218414brow2_col2,#T_4cb6807f_498f_11eb_96ce_3c58c218414brow3_col3{\n            background-color:  #b40426;\n            color:  #f1f1f1;\n        }#T_4cb6807f_498f_11eb_96ce_3c58c218414brow0_col1,#T_4cb6807f_498f_11eb_96ce_3c58c218414brow1_col0{\n            background-color:  #3f53c6;\n            color:  #f1f1f1;\n        }#T_4cb6807f_498f_11eb_96ce_3c58c218414brow0_col2,#T_4cb6807f_498f_11eb_96ce_3c58c218414brow2_col0{\n            background-color:  #3c4ec2;\n            color:  #f1f1f1;\n        }#T_4cb6807f_498f_11eb_96ce_3c58c218414brow0_col3,#T_4cb6807f_498f_11eb_96ce_3c58c218414brow3_col0{\n            background-color:  #3b4cc0;\n            color:  #f1f1f1;\n        }#T_4cb6807f_498f_11eb_96ce_3c58c218414brow1_col2,#T_4cb6807f_498f_11eb_96ce_3c58c218414brow2_col1{\n            background-color:  #f7af91;\n            color:  #000000;\n        }#T_4cb6807f_498f_11eb_96ce_3c58c218414brow1_col3,#T_4cb6807f_498f_11eb_96ce_3c58c218414brow3_col1{\n            background-color:  #4358cb;\n            color:  #f1f1f1;\n        }#T_4cb6807f_498f_11eb_96ce_3c58c218414brow2_col3,#T_4cb6807f_498f_11eb_96ce_3c58c218414brow3_col2{\n            background-color:  #536edd;\n            color:  #000000;\n        }</style><table id=\"T_4cb6807f_498f_11eb_96ce_3c58c218414b\" ><thead>    <tr>        <th class=\"blank level0\" ></th>        <th class=\"col_heading level0 col0\" >num_like_post</th>        <th class=\"col_heading level0 col1\" >num_comment_post</th>        <th class=\"col_heading level0 col2\" >num_share_post</th>        <th class=\"col_heading level0 col3\" >label</th>    </tr></thead><tbody>\n                <tr>\n                        <th id=\"T_4cb6807f_498f_11eb_96ce_3c58c218414blevel0_row0\" class=\"row_heading level0 row0\" >num_like_post</th>\n                        <td id=\"T_4cb6807f_498f_11eb_96ce_3c58c218414brow0_col0\" class=\"data row0 col0\" >1.00</td>\n                        <td id=\"T_4cb6807f_498f_11eb_96ce_3c58c218414brow0_col1\" class=\"data row0 col1\" >0.01</td>\n                        <td id=\"T_4cb6807f_498f_11eb_96ce_3c58c218414brow0_col2\" class=\"data row0 col2\" >-0.01</td>\n                        <td id=\"T_4cb6807f_498f_11eb_96ce_3c58c218414brow0_col3\" class=\"data row0 col3\" >-0.01</td>\n            </tr>\n            <tr>\n                        <th id=\"T_4cb6807f_498f_11eb_96ce_3c58c218414blevel0_row1\" class=\"row_heading level0 row1\" >num_comment_post</th>\n                        <td id=\"T_4cb6807f_498f_11eb_96ce_3c58c218414brow1_col0\" class=\"data row1 col0\" >0.01</td>\n                        <td id=\"T_4cb6807f_498f_11eb_96ce_3c58c218414brow1_col1\" class=\"data row1 col1\" >1.00</td>\n                        <td id=\"T_4cb6807f_498f_11eb_96ce_3c58c218414brow1_col2\" class=\"data row1 col2\" >0.69</td>\n                        <td id=\"T_4cb6807f_498f_11eb_96ce_3c58c218414brow1_col3\" class=\"data row1 col3\" >0.02</td>\n            </tr>\n            <tr>\n                        <th id=\"T_4cb6807f_498f_11eb_96ce_3c58c218414blevel0_row2\" class=\"row_heading level0 row2\" >num_share_post</th>\n                        <td id=\"T_4cb6807f_498f_11eb_96ce_3c58c218414brow2_col0\" class=\"data row2 col0\" >-0.01</td>\n                        <td id=\"T_4cb6807f_498f_11eb_96ce_3c58c218414brow2_col1\" class=\"data row2 col1\" >0.69</td>\n                        <td id=\"T_4cb6807f_498f_11eb_96ce_3c58c218414brow2_col2\" class=\"data row2 col2\" >1.00</td>\n                        <td id=\"T_4cb6807f_498f_11eb_96ce_3c58c218414brow2_col3\" class=\"data row2 col3\" >0.07</td>\n            </tr>\n            <tr>\n                        <th id=\"T_4cb6807f_498f_11eb_96ce_3c58c218414blevel0_row3\" class=\"row_heading level0 row3\" >label</th>\n                        <td id=\"T_4cb6807f_498f_11eb_96ce_3c58c218414brow3_col0\" class=\"data row3 col0\" >-0.01</td>\n                        <td id=\"T_4cb6807f_498f_11eb_96ce_3c58c218414brow3_col1\" class=\"data row3 col1\" >0.02</td>\n                        <td id=\"T_4cb6807f_498f_11eb_96ce_3c58c218414brow3_col2\" class=\"data row3 col2\" >0.07</td>\n                        <td id=\"T_4cb6807f_498f_11eb_96ce_3c58c218414brow3_col3\" class=\"data row3 col3\" >1.00</td>\n            </tr>\n    </tbody></table>"
     },
     "metadata": {},
     "execution_count": 3
    }
   ],
   "source": [
    "cols = ['num_like_post', 'num_comment_post', 'num_share_post', 'label']\n",
    "subnets = data[cols]\n",
    "subnets.corr(method='pearson').style.background_gradient(cmap='coolwarm', axis=None).set_precision(2)"
   ]
  },
  {
   "cell_type": "code",
   "execution_count": 4,
   "metadata": {},
   "outputs": [],
   "source": [
    "from preprocessing import *"
   ]
  },
  {
   "cell_type": "code",
   "execution_count": 5,
   "metadata": {},
   "outputs": [
    {
     "output_type": "stream",
     "name": "stdout",
     "text": [
      "toản tỏan tỏa toả quả qủa quế qúê\n"
     ]
    },
    {
     "output_type": "execute_result",
     "data": {
      "text/plain": [
       "'toản toản tỏa tỏa quả quả quế quế'"
      ]
     },
     "metadata": {},
     "execution_count": 5
    }
   ],
   "source": [
    "test_string = \"toản tỏan tỏa toả quả qủa quế qúê\"\n",
    "print(test_string)\n",
    "standardize_vi_sentence_accents(test_string)"
   ]
  },
  {
   "cell_type": "code",
   "execution_count": 6,
   "metadata": {},
   "outputs": [
    {
     "output_type": "stream",
     "name": "stdout",
     "text": [
      "EMAIL EMAIL EMAIL\nhttps:\\URL\n:face_with_tears_of_joy::face_with_tears_of_joy: :v :) ^_^ ^-^ @_@\n😂😂 :v Happy_face_or_smiley Joyful ^-^ @_@\n"
     ]
    }
   ],
   "source": [
    "test_mail = \"khai@gmail.com vcsdl@gd.sr.hk bdf@ydf.df.com\"\n",
    "test_link = \"https:\\\\med.com.vn  www.hoag.com.vn uet.vnu.vn\"\n",
    "test_emoji_emotion = \"😂😂 :v :) ^_^ ^-^ @_@\"\n",
    "print(replace_email(test_mail))\n",
    "print(replace_link(test_link))\n",
    "print(convert_emojis(test_emoji_emotion))\n",
    "print(convert_emotions(test_emoji_emotion))"
   ]
  },
  {
   "cell_type": "code",
   "execution_count": 7,
   "metadata": {},
   "outputs": [],
   "source": [
    "stopwords_file = \"vietnamese-stopwords/vietnamese-stopwords.txt\"\n",
    "#teencode_file = \"dict_topic_word/teencode.txt\"\n",
    "\n",
    "stopwords = get_stop_words(stopwords_file)\n",
    "#teencode_dict = get_teencode_dict(teencode_file)"
   ]
  },
  {
   "cell_type": "code",
   "execution_count": 8,
   "metadata": {},
   "outputs": [],
   "source": [
    "from vncorenlp import VnCoreNLP\n",
    "annotator = VnCoreNLP(\"VnCoreNLP/VnCoreNLP-1.1.1.jar\", annotators=\"wseg\", max_heap_size='-Xmx500m')"
   ]
  },
  {
   "cell_type": "code",
   "execution_count": 9,
   "metadata": {},
   "outputs": [
    {
     "output_type": "execute_result",
     "data": {
      "text/plain": [
       "        id                                       post_message  label\n",
       "0      439  Bộ Tài chính vừa có công văn đề nghị Bộ Tư phá...      0\n",
       "1     3630  🏞 Dự án Sân golf Việt Yên:\\n- Diện tích khu đấ...      0\n",
       "2     4252  😋🤤 VỚI NHÀ HÀNG, QUÁN ĂN THÌ CHỈ YÊU CẦU SÁT K...      0\n",
       "3      673  Vingroup đầu tư 'siêu máy tính' AI đầu tiên tạ...      0\n",
       "4      391  Bắt đầu từ thứ Hai ngày 4/5 tới, xe buýt tại H...      0\n",
       "...    ...                                                ...    ...\n",
       "1451  4336  TQ 1980 có GDP 190 tỷ USD, thua VN bây giờ. Sa...      1\n",
       "1452  4343  Virus Corona là vũ khí sinh học? Hiện nay có n...      1\n",
       "1453  4364  Tin từ Phó Chủ Tịch UBND TPHCM Lê Thanh Liêm.\\...      1\n",
       "1454  4370  Lời cảnh tỉnh cho các thanh niên dân TỔ...tốc ...      1\n",
       "1455  4371  Đến bây giờ mới biết chỉ cần học lái xe hạng B...      1\n",
       "\n",
       "[1456 rows x 3 columns]"
      ],
      "text/html": "<div>\n<style scoped>\n    .dataframe tbody tr th:only-of-type {\n        vertical-align: middle;\n    }\n\n    .dataframe tbody tr th {\n        vertical-align: top;\n    }\n\n    .dataframe thead th {\n        text-align: right;\n    }\n</style>\n<table border=\"1\" class=\"dataframe\">\n  <thead>\n    <tr style=\"text-align: right;\">\n      <th></th>\n      <th>id</th>\n      <th>post_message</th>\n      <th>label</th>\n    </tr>\n  </thead>\n  <tbody>\n    <tr>\n      <th>0</th>\n      <td>439</td>\n      <td>Bộ Tài chính vừa có công văn đề nghị Bộ Tư phá...</td>\n      <td>0</td>\n    </tr>\n    <tr>\n      <th>1</th>\n      <td>3630</td>\n      <td>🏞 Dự án Sân golf Việt Yên:\\n- Diện tích khu đấ...</td>\n      <td>0</td>\n    </tr>\n    <tr>\n      <th>2</th>\n      <td>4252</td>\n      <td>😋🤤 VỚI NHÀ HÀNG, QUÁN ĂN THÌ CHỈ YÊU CẦU SÁT K...</td>\n      <td>0</td>\n    </tr>\n    <tr>\n      <th>3</th>\n      <td>673</td>\n      <td>Vingroup đầu tư 'siêu máy tính' AI đầu tiên tạ...</td>\n      <td>0</td>\n    </tr>\n    <tr>\n      <th>4</th>\n      <td>391</td>\n      <td>Bắt đầu từ thứ Hai ngày 4/5 tới, xe buýt tại H...</td>\n      <td>0</td>\n    </tr>\n    <tr>\n      <th>...</th>\n      <td>...</td>\n      <td>...</td>\n      <td>...</td>\n    </tr>\n    <tr>\n      <th>1451</th>\n      <td>4336</td>\n      <td>TQ 1980 có GDP 190 tỷ USD, thua VN bây giờ. Sa...</td>\n      <td>1</td>\n    </tr>\n    <tr>\n      <th>1452</th>\n      <td>4343</td>\n      <td>Virus Corona là vũ khí sinh học? Hiện nay có n...</td>\n      <td>1</td>\n    </tr>\n    <tr>\n      <th>1453</th>\n      <td>4364</td>\n      <td>Tin từ Phó Chủ Tịch UBND TPHCM Lê Thanh Liêm.\\...</td>\n      <td>1</td>\n    </tr>\n    <tr>\n      <th>1454</th>\n      <td>4370</td>\n      <td>Lời cảnh tỉnh cho các thanh niên dân TỔ...tốc ...</td>\n      <td>1</td>\n    </tr>\n    <tr>\n      <th>1455</th>\n      <td>4371</td>\n      <td>Đến bây giờ mới biết chỉ cần học lái xe hạng B...</td>\n      <td>1</td>\n    </tr>\n  </tbody>\n</table>\n<p>1456 rows × 3 columns</p>\n</div>"
     },
     "metadata": {},
     "execution_count": 9
    }
   ],
   "source": [
    "cat_data = pd.read_csv('cat_data_del_down.csv')\n",
    "cat_data"
   ]
  },
  {
   "cell_type": "code",
   "execution_count": 10,
   "metadata": {},
   "outputs": [],
   "source": [
    "def text_preprocessing(text, annotator=annotator, stopwords=[]):\n",
    "    # kwargs: annotator, stopwords\n",
    "  origin_text = copy.deepcopy(text)  \n",
    "  try:\n",
    "    text = unicodedata.normalize(\"NFC\", text)\n",
    "    text = text.lower()\n",
    "\n",
    "    # Chuẩn hóa các từ có kí tự bị lặp lại\n",
    "    text = remove_dup_char(text)\n",
    "\n",
    "    text = replace_email(text)\n",
    "    text = replace_emoji(text)\n",
    "\n",
    "    # Thay thế tất cả các đường dẫn trong văn bản.\n",
    "    text = replace_link(text)\n",
    "    \n",
    "    #remove punctuation\n",
    "    table = str.maketrans('', '',string.punctuation)\n",
    "    text = text.translate(table)\n",
    "\n",
    "    # Tách mix từ và số\n",
    "    text = split_alphanum(text)\n",
    "    # Loại bỏ toàn bộ các ký tự đứng 1 mình\n",
    "    text = strip_short(text, minsize=2)\n",
    "    # Loại bỏ hết các số trong văn bản\n",
    "    text = strip_numeric(text)\n",
    "\n",
    "    # Loại bỏ các kí tự lạ như ≥\n",
    "    text = strip_non_alphanum(text)\n",
    "    # Chuẩn hóa cách đặt dấu cho các từ trong câu: ví dụ \"nhân qủa\" -> \"nhân quả\" \n",
    "    text = standardize_vi_sentence_accents(text)\n",
    "    \n",
    "\n",
    "    text = text.strip()\n",
    "    if not text:\n",
    "      return \"EMPTY_STRING\"\n",
    "    #tokenize\n",
    "    # luôn chỉ có 1 phần từ nên lấy [0]\n",
    "    # lý do chỉ có 1 phần tử là vì ta đã xóa hết dấu câu cả văn bản coi là 1 câu\n",
    "    # không còn dấu \".\" nên bộ tokenize xem như là 1 câu nên chỉ có 1 phần tử.\n",
    "    list_token = annotator.tokenize(text)[0]\n",
    "\n",
    "    # Chuẩn hóa teencode\n",
    "    # list_token = [teencode_dict.get(token, token) for token in list_token]\n",
    "\n",
    "    # remove stopword\n",
    "    list_token = [token for token in list_token if token not in stopwords]\n",
    "\n",
    "    norm_text = \" \".join(list_token)\n",
    "\n",
    "    return norm_text\n",
    "  except:\n",
    "    print(\"EXCEPTION with\", origin_text, '\\n')\n",
    "    return \"EXCEPTION_STRING\"\n"
   ]
  },
  {
   "cell_type": "code",
   "execution_count": 11,
   "metadata": {},
   "outputs": [
    {
     "output_type": "execute_result",
     "data": {
      "text/plain": [
       "'hai xe_buýt hà_nội hoạt_động lượt quy_định phòng_dịch'"
      ]
     },
     "metadata": {},
     "execution_count": 11
    }
   ],
   "source": [
    "my_text_preprocessing(cat_data.post_message[4], annotator=annotator, stopwords=stopwords)"
   ]
  },
  {
   "cell_type": "code",
   "execution_count": 12,
   "metadata": {},
   "outputs": [
    {
     "output_type": "execute_result",
     "data": {
      "text/plain": [
       "'hơi muộn chúc anhchị nhà_báo báo_chí vui_vẻ sức_khoẻ hưởng_ứng kính mong mời anhchị nhà_báo chủ_đề cảnh khủng_hoảng hoang_dã hứng_thú tham_dự chi_tiết url'"
      ]
     },
     "metadata": {},
     "execution_count": 12
    }
   ],
   "source": [
    "text_preprocessing(cat_data.post_message[5], annotator=annotator, stopwords=stopwords)"
   ]
  },
  {
   "cell_type": "code",
   "execution_count": 13,
   "metadata": {},
   "outputs": [],
   "source": [
    "cat_data['post_message_preproced'] = cat_data.post_message.apply(text_preprocessing, stopwords= stopwords, annotator= annotator)\n"
   ]
  },
  {
   "cell_type": "code",
   "execution_count": 14,
   "metadata": {},
   "outputs": [
    {
     "output_type": "execute_result",
     "data": {
      "text/plain": [
       "        id                                       post_message  label  \\\n",
       "0      439  Bộ Tài chính vừa có công văn đề nghị Bộ Tư phá...      0   \n",
       "1     3630  🏞 Dự án Sân golf Việt Yên:\\n- Diện tích khu đấ...      0   \n",
       "2     4252  😋🤤 VỚI NHÀ HÀNG, QUÁN ĂN THÌ CHỈ YÊU CẦU SÁT K...      0   \n",
       "3      673  Vingroup đầu tư 'siêu máy tính' AI đầu tiên tạ...      0   \n",
       "4      391  Bắt đầu từ thứ Hai ngày 4/5 tới, xe buýt tại H...      0   \n",
       "...    ...                                                ...    ...   \n",
       "1451  4336  TQ 1980 có GDP 190 tỷ USD, thua VN bây giờ. Sa...      1   \n",
       "1452  4343  Virus Corona là vũ khí sinh học? Hiện nay có n...      1   \n",
       "1453  4364  Tin từ Phó Chủ Tịch UBND TPHCM Lê Thanh Liêm.\\...      1   \n",
       "1454  4370  Lời cảnh tỉnh cho các thanh niên dân TỔ...tốc ...      1   \n",
       "1455  4371  Đến bây giờ mới biết chỉ cần học lái xe hạng B...      1   \n",
       "\n",
       "                                 post_message_preproced  \n",
       "0     tài_chính công_văn đề_nghị tư_pháp thẩm_định d...  \n",
       "1     emoji dự_án sân golf việt_yên diện_tích khu đấ...  \n",
       "2     emoji emoji nhà_hàng quán sát_khuẩn đồng quy_đ...  \n",
       "3     vingroup đầu_tư siêu máy_tính việt_nam triệu t...  \n",
       "4     hai xe_buýt hà_nội hoạt_động lượt quy_định phò...  \n",
       "...                                                 ...  \n",
       "1451  tq gdp tỷ usd thua vn gdp tỷ usd lịch_sử ca gi...  \n",
       "1452  virus corona vũ_khí_sinh_học bằng_chứng virus ...  \n",
       "1453  phó chủ_tịch ubnd tphcm lê_thanh_liêm tp hồ_ch...  \n",
       "1454  cảnh_tỉnh thanh_niên dân tổtốc độ bàn_thờ emoj...  \n",
       "1455  học lái_xe hạng chữa bá bệnh lãnh_đạo_tế xứ th...  \n",
       "\n",
       "[1456 rows x 4 columns]"
      ],
      "text/html": "<div>\n<style scoped>\n    .dataframe tbody tr th:only-of-type {\n        vertical-align: middle;\n    }\n\n    .dataframe tbody tr th {\n        vertical-align: top;\n    }\n\n    .dataframe thead th {\n        text-align: right;\n    }\n</style>\n<table border=\"1\" class=\"dataframe\">\n  <thead>\n    <tr style=\"text-align: right;\">\n      <th></th>\n      <th>id</th>\n      <th>post_message</th>\n      <th>label</th>\n      <th>post_message_preproced</th>\n    </tr>\n  </thead>\n  <tbody>\n    <tr>\n      <th>0</th>\n      <td>439</td>\n      <td>Bộ Tài chính vừa có công văn đề nghị Bộ Tư phá...</td>\n      <td>0</td>\n      <td>tài_chính công_văn đề_nghị tư_pháp thẩm_định d...</td>\n    </tr>\n    <tr>\n      <th>1</th>\n      <td>3630</td>\n      <td>🏞 Dự án Sân golf Việt Yên:\\n- Diện tích khu đấ...</td>\n      <td>0</td>\n      <td>emoji dự_án sân golf việt_yên diện_tích khu đấ...</td>\n    </tr>\n    <tr>\n      <th>2</th>\n      <td>4252</td>\n      <td>😋🤤 VỚI NHÀ HÀNG, QUÁN ĂN THÌ CHỈ YÊU CẦU SÁT K...</td>\n      <td>0</td>\n      <td>emoji emoji nhà_hàng quán sát_khuẩn đồng quy_đ...</td>\n    </tr>\n    <tr>\n      <th>3</th>\n      <td>673</td>\n      <td>Vingroup đầu tư 'siêu máy tính' AI đầu tiên tạ...</td>\n      <td>0</td>\n      <td>vingroup đầu_tư siêu máy_tính việt_nam triệu t...</td>\n    </tr>\n    <tr>\n      <th>4</th>\n      <td>391</td>\n      <td>Bắt đầu từ thứ Hai ngày 4/5 tới, xe buýt tại H...</td>\n      <td>0</td>\n      <td>hai xe_buýt hà_nội hoạt_động lượt quy_định phò...</td>\n    </tr>\n    <tr>\n      <th>...</th>\n      <td>...</td>\n      <td>...</td>\n      <td>...</td>\n      <td>...</td>\n    </tr>\n    <tr>\n      <th>1451</th>\n      <td>4336</td>\n      <td>TQ 1980 có GDP 190 tỷ USD, thua VN bây giờ. Sa...</td>\n      <td>1</td>\n      <td>tq gdp tỷ usd thua vn gdp tỷ usd lịch_sử ca gi...</td>\n    </tr>\n    <tr>\n      <th>1452</th>\n      <td>4343</td>\n      <td>Virus Corona là vũ khí sinh học? Hiện nay có n...</td>\n      <td>1</td>\n      <td>virus corona vũ_khí_sinh_học bằng_chứng virus ...</td>\n    </tr>\n    <tr>\n      <th>1453</th>\n      <td>4364</td>\n      <td>Tin từ Phó Chủ Tịch UBND TPHCM Lê Thanh Liêm.\\...</td>\n      <td>1</td>\n      <td>phó chủ_tịch ubnd tphcm lê_thanh_liêm tp hồ_ch...</td>\n    </tr>\n    <tr>\n      <th>1454</th>\n      <td>4370</td>\n      <td>Lời cảnh tỉnh cho các thanh niên dân TỔ...tốc ...</td>\n      <td>1</td>\n      <td>cảnh_tỉnh thanh_niên dân tổtốc độ bàn_thờ emoj...</td>\n    </tr>\n    <tr>\n      <th>1455</th>\n      <td>4371</td>\n      <td>Đến bây giờ mới biết chỉ cần học lái xe hạng B...</td>\n      <td>1</td>\n      <td>học lái_xe hạng chữa bá bệnh lãnh_đạo_tế xứ th...</td>\n    </tr>\n  </tbody>\n</table>\n<p>1456 rows × 4 columns</p>\n</div>"
     },
     "metadata": {},
     "execution_count": 14
    }
   ],
   "source": [
    "cat_data"
   ]
  },
  {
   "cell_type": "code",
   "execution_count": null,
   "metadata": {},
   "outputs": [],
   "source": []
  }
 ]
}